{
 "cells": [
  {
   "cell_type": "code",
   "execution_count": 1,
   "id": "sized-cemetery",
   "metadata": {
    "_cell_guid": "b1076dfc-b9ad-4769-8c92-a6c4dae69d19",
    "_uuid": "8f2839f25d086af736a60e9eeb907d3b93b6e0e5",
    "execution": {
     "iopub.execute_input": "2021-06-15T17:06:07.373166Z",
     "iopub.status.busy": "2021-06-15T17:06:07.372051Z",
     "iopub.status.idle": "2021-06-15T17:06:07.383777Z",
     "shell.execute_reply": "2021-06-15T17:06:07.384427Z",
     "shell.execute_reply.started": "2021-06-15T16:21:28.621937Z"
    },
    "papermill": {
     "duration": 0.076611,
     "end_time": "2021-06-15T17:06:07.384786",
     "exception": false,
     "start_time": "2021-06-15T17:06:07.308175",
     "status": "completed"
    },
    "tags": []
   },
   "outputs": [
    {
     "name": "stdout",
     "output_type": "stream",
     "text": [
      "/kaggle/input/titanic/train.csv\n",
      "/kaggle/input/titanic/test.csv\n",
      "/kaggle/input/titanic/gender_submission.csv\n"
     ]
    }
   ],
   "source": [
    "# This Python 3 environment comes with many helpful analytics libraries installed\n",
    "# It is defined by the kaggle/python Docker image: https://github.com/kaggle/docker-python\n",
    "# For example, here's several helpful packages to load\n",
    "\n",
    "import numpy as np # linear algebra\n",
    "import pandas as pd # data processing, CSV file I/O (e.g. pd.read_csv)\n",
    "\n",
    "# Input data files are available in the read-only \"../input/\" directory\n",
    "# For example, running this (by clicking run or pressing Shift+Enter) will list all files under the input directory\n",
    "\n",
    "import os\n",
    "for dirname, _, filenames in os.walk('/kaggle/input'):\n",
    "    for filename in filenames:\n",
    "        print(os.path.join(dirname, filename))\n",
    "\n",
    "# You can write up to 20GB to the current directory (/kaggle/working/) that gets preserved as output when you create a version using \"Save & Run All\" \n",
    "# You can also write temporary files to /kaggle/temp/, but they won't be saved outside of the current session"
   ]
  },
  {
   "cell_type": "code",
   "execution_count": 2,
   "id": "mental-singing",
   "metadata": {
    "execution": {
     "iopub.execute_input": "2021-06-15T17:06:07.509281Z",
     "iopub.status.busy": "2021-06-15T17:06:07.508703Z",
     "iopub.status.idle": "2021-06-15T17:06:08.256724Z",
     "shell.execute_reply": "2021-06-15T17:06:08.257181Z",
     "shell.execute_reply.started": "2021-06-15T16:21:28.634784Z"
    },
    "papermill": {
     "duration": 0.810062,
     "end_time": "2021-06-15T17:06:08.257375",
     "exception": false,
     "start_time": "2021-06-15T17:06:07.447313",
     "status": "completed"
    },
    "tags": []
   },
   "outputs": [],
   "source": [
    "import seaborn as sns\n",
    "import matplotlib.pyplot as plt\n",
    "%matplotlib inline"
   ]
  },
  {
   "cell_type": "code",
   "execution_count": 3,
   "id": "designing-calculator",
   "metadata": {
    "execution": {
     "iopub.execute_input": "2021-06-15T17:06:08.379261Z",
     "iopub.status.busy": "2021-06-15T17:06:08.378628Z",
     "iopub.status.idle": "2021-06-15T17:06:08.421069Z",
     "shell.execute_reply": "2021-06-15T17:06:08.421820Z",
     "shell.execute_reply.started": "2021-06-15T16:21:29.070215Z"
    },
    "papermill": {
     "duration": 0.10674,
     "end_time": "2021-06-15T17:06:08.421988",
     "exception": false,
     "start_time": "2021-06-15T17:06:08.315248",
     "status": "completed"
    },
    "tags": []
   },
   "outputs": [
    {
     "data": {
      "text/html": [
       "<div>\n",
       "<style scoped>\n",
       "    .dataframe tbody tr th:only-of-type {\n",
       "        vertical-align: middle;\n",
       "    }\n",
       "\n",
       "    .dataframe tbody tr th {\n",
       "        vertical-align: top;\n",
       "    }\n",
       "\n",
       "    .dataframe thead th {\n",
       "        text-align: right;\n",
       "    }\n",
       "</style>\n",
       "<table border=\"1\" class=\"dataframe\">\n",
       "  <thead>\n",
       "    <tr style=\"text-align: right;\">\n",
       "      <th></th>\n",
       "      <th>PassengerId</th>\n",
       "      <th>Survived</th>\n",
       "      <th>Pclass</th>\n",
       "      <th>Name</th>\n",
       "      <th>Sex</th>\n",
       "      <th>Age</th>\n",
       "      <th>SibSp</th>\n",
       "      <th>Parch</th>\n",
       "      <th>Ticket</th>\n",
       "      <th>Fare</th>\n",
       "      <th>Cabin</th>\n",
       "      <th>Embarked</th>\n",
       "    </tr>\n",
       "  </thead>\n",
       "  <tbody>\n",
       "    <tr>\n",
       "      <th>0</th>\n",
       "      <td>1</td>\n",
       "      <td>0</td>\n",
       "      <td>3</td>\n",
       "      <td>Braund, Mr. Owen Harris</td>\n",
       "      <td>male</td>\n",
       "      <td>22.0</td>\n",
       "      <td>1</td>\n",
       "      <td>0</td>\n",
       "      <td>A/5 21171</td>\n",
       "      <td>7.2500</td>\n",
       "      <td>NaN</td>\n",
       "      <td>S</td>\n",
       "    </tr>\n",
       "    <tr>\n",
       "      <th>1</th>\n",
       "      <td>2</td>\n",
       "      <td>1</td>\n",
       "      <td>1</td>\n",
       "      <td>Cumings, Mrs. John Bradley (Florence Briggs Th...</td>\n",
       "      <td>female</td>\n",
       "      <td>38.0</td>\n",
       "      <td>1</td>\n",
       "      <td>0</td>\n",
       "      <td>PC 17599</td>\n",
       "      <td>71.2833</td>\n",
       "      <td>C85</td>\n",
       "      <td>C</td>\n",
       "    </tr>\n",
       "    <tr>\n",
       "      <th>2</th>\n",
       "      <td>3</td>\n",
       "      <td>1</td>\n",
       "      <td>3</td>\n",
       "      <td>Heikkinen, Miss. Laina</td>\n",
       "      <td>female</td>\n",
       "      <td>26.0</td>\n",
       "      <td>0</td>\n",
       "      <td>0</td>\n",
       "      <td>STON/O2. 3101282</td>\n",
       "      <td>7.9250</td>\n",
       "      <td>NaN</td>\n",
       "      <td>S</td>\n",
       "    </tr>\n",
       "    <tr>\n",
       "      <th>3</th>\n",
       "      <td>4</td>\n",
       "      <td>1</td>\n",
       "      <td>1</td>\n",
       "      <td>Futrelle, Mrs. Jacques Heath (Lily May Peel)</td>\n",
       "      <td>female</td>\n",
       "      <td>35.0</td>\n",
       "      <td>1</td>\n",
       "      <td>0</td>\n",
       "      <td>113803</td>\n",
       "      <td>53.1000</td>\n",
       "      <td>C123</td>\n",
       "      <td>S</td>\n",
       "    </tr>\n",
       "    <tr>\n",
       "      <th>4</th>\n",
       "      <td>5</td>\n",
       "      <td>0</td>\n",
       "      <td>3</td>\n",
       "      <td>Allen, Mr. William Henry</td>\n",
       "      <td>male</td>\n",
       "      <td>35.0</td>\n",
       "      <td>0</td>\n",
       "      <td>0</td>\n",
       "      <td>373450</td>\n",
       "      <td>8.0500</td>\n",
       "      <td>NaN</td>\n",
       "      <td>S</td>\n",
       "    </tr>\n",
       "  </tbody>\n",
       "</table>\n",
       "</div>"
      ],
      "text/plain": [
       "   PassengerId  Survived  Pclass  \\\n",
       "0            1         0       3   \n",
       "1            2         1       1   \n",
       "2            3         1       3   \n",
       "3            4         1       1   \n",
       "4            5         0       3   \n",
       "\n",
       "                                                Name     Sex   Age  SibSp  \\\n",
       "0                            Braund, Mr. Owen Harris    male  22.0      1   \n",
       "1  Cumings, Mrs. John Bradley (Florence Briggs Th...  female  38.0      1   \n",
       "2                             Heikkinen, Miss. Laina  female  26.0      0   \n",
       "3       Futrelle, Mrs. Jacques Heath (Lily May Peel)  female  35.0      1   \n",
       "4                           Allen, Mr. William Henry    male  35.0      0   \n",
       "\n",
       "   Parch            Ticket     Fare Cabin Embarked  \n",
       "0      0         A/5 21171   7.2500   NaN        S  \n",
       "1      0          PC 17599  71.2833   C85        C  \n",
       "2      0  STON/O2. 3101282   7.9250   NaN        S  \n",
       "3      0            113803  53.1000  C123        S  \n",
       "4      0            373450   8.0500   NaN        S  "
      ]
     },
     "execution_count": 3,
     "metadata": {},
     "output_type": "execute_result"
    }
   ],
   "source": [
    "df = pd.read_csv(\"../input/titanic/train.csv\")\n",
    "df.head()"
   ]
  },
  {
   "cell_type": "code",
   "execution_count": 4,
   "id": "stretch-tuner",
   "metadata": {
    "execution": {
     "iopub.execute_input": "2021-06-15T17:06:08.548290Z",
     "iopub.status.busy": "2021-06-15T17:06:08.547517Z",
     "iopub.status.idle": "2021-06-15T17:06:08.551506Z",
     "shell.execute_reply": "2021-06-15T17:06:08.550906Z",
     "shell.execute_reply.started": "2021-06-15T16:21:29.106272Z"
    },
    "papermill": {
     "duration": 0.06848,
     "end_time": "2021-06-15T17:06:08.551634",
     "exception": false,
     "start_time": "2021-06-15T17:06:08.483154",
     "status": "completed"
    },
    "tags": []
   },
   "outputs": [
    {
     "data": {
      "text/plain": [
       "(891, 12)"
      ]
     },
     "execution_count": 4,
     "metadata": {},
     "output_type": "execute_result"
    }
   ],
   "source": [
    "# of Rows and Columns \n",
    "df.shape"
   ]
  },
  {
   "cell_type": "code",
   "execution_count": 5,
   "id": "cardiovascular-dealing",
   "metadata": {
    "execution": {
     "iopub.execute_input": "2021-06-15T17:06:08.680763Z",
     "iopub.status.busy": "2021-06-15T17:06:08.680099Z",
     "iopub.status.idle": "2021-06-15T17:06:08.682560Z",
     "shell.execute_reply": "2021-06-15T17:06:08.683295Z",
     "shell.execute_reply.started": "2021-06-15T16:21:29.114925Z"
    },
    "papermill": {
     "duration": 0.071051,
     "end_time": "2021-06-15T17:06:08.683629",
     "exception": false,
     "start_time": "2021-06-15T17:06:08.612578",
     "status": "completed"
    },
    "tags": []
   },
   "outputs": [
    {
     "data": {
      "text/plain": [
       "['PassengerId',\n",
       " 'Survived',\n",
       " 'Pclass',\n",
       " 'Name',\n",
       " 'Sex',\n",
       " 'Age',\n",
       " 'SibSp',\n",
       " 'Parch',\n",
       " 'Ticket',\n",
       " 'Fare',\n",
       " 'Cabin',\n",
       " 'Embarked']"
      ]
     },
     "execution_count": 5,
     "metadata": {},
     "output_type": "execute_result"
    }
   ],
   "source": [
    "#List of columns\n",
    "list(df.columns)"
   ]
  },
  {
   "cell_type": "code",
   "execution_count": 6,
   "id": "disciplinary-claim",
   "metadata": {
    "execution": {
     "iopub.execute_input": "2021-06-15T17:06:08.811144Z",
     "iopub.status.busy": "2021-06-15T17:06:08.808899Z",
     "iopub.status.idle": "2021-06-15T17:06:08.832221Z",
     "shell.execute_reply": "2021-06-15T17:06:08.832791Z",
     "shell.execute_reply.started": "2021-06-15T16:21:29.130543Z"
    },
    "papermill": {
     "duration": 0.088446,
     "end_time": "2021-06-15T17:06:08.832975",
     "exception": false,
     "start_time": "2021-06-15T17:06:08.744529",
     "status": "completed"
    },
    "tags": []
   },
   "outputs": [
    {
     "name": "stdout",
     "output_type": "stream",
     "text": [
      "<class 'pandas.core.frame.DataFrame'>\n",
      "RangeIndex: 891 entries, 0 to 890\n",
      "Data columns (total 12 columns):\n",
      " #   Column       Non-Null Count  Dtype  \n",
      "---  ------       --------------  -----  \n",
      " 0   PassengerId  891 non-null    int64  \n",
      " 1   Survived     891 non-null    int64  \n",
      " 2   Pclass       891 non-null    int64  \n",
      " 3   Name         891 non-null    object \n",
      " 4   Sex          891 non-null    object \n",
      " 5   Age          714 non-null    float64\n",
      " 6   SibSp        891 non-null    int64  \n",
      " 7   Parch        891 non-null    int64  \n",
      " 8   Ticket       891 non-null    object \n",
      " 9   Fare         891 non-null    float64\n",
      " 10  Cabin        204 non-null    object \n",
      " 11  Embarked     889 non-null    object \n",
      "dtypes: float64(2), int64(5), object(5)\n",
      "memory usage: 83.7+ KB\n"
     ]
    }
   ],
   "source": [
    "#info of every attribute\n",
    "df.info()"
   ]
  },
  {
   "cell_type": "code",
   "execution_count": 7,
   "id": "secondary-maximum",
   "metadata": {
    "execution": {
     "iopub.execute_input": "2021-06-15T17:06:08.975044Z",
     "iopub.status.busy": "2021-06-15T17:06:08.974144Z",
     "iopub.status.idle": "2021-06-15T17:06:09.006480Z",
     "shell.execute_reply": "2021-06-15T17:06:09.006931Z",
     "shell.execute_reply.started": "2021-06-15T16:21:29.154498Z"
    },
    "papermill": {
     "duration": 0.096877,
     "end_time": "2021-06-15T17:06:09.007106",
     "exception": false,
     "start_time": "2021-06-15T17:06:08.910229",
     "status": "completed"
    },
    "tags": []
   },
   "outputs": [
    {
     "data": {
      "text/html": [
       "<div>\n",
       "<style scoped>\n",
       "    .dataframe tbody tr th:only-of-type {\n",
       "        vertical-align: middle;\n",
       "    }\n",
       "\n",
       "    .dataframe tbody tr th {\n",
       "        vertical-align: top;\n",
       "    }\n",
       "\n",
       "    .dataframe thead th {\n",
       "        text-align: right;\n",
       "    }\n",
       "</style>\n",
       "<table border=\"1\" class=\"dataframe\">\n",
       "  <thead>\n",
       "    <tr style=\"text-align: right;\">\n",
       "      <th></th>\n",
       "      <th>PassengerId</th>\n",
       "      <th>Survived</th>\n",
       "      <th>Pclass</th>\n",
       "      <th>Age</th>\n",
       "      <th>SibSp</th>\n",
       "      <th>Parch</th>\n",
       "      <th>Fare</th>\n",
       "    </tr>\n",
       "  </thead>\n",
       "  <tbody>\n",
       "    <tr>\n",
       "      <th>count</th>\n",
       "      <td>891.000000</td>\n",
       "      <td>891.000000</td>\n",
       "      <td>891.000000</td>\n",
       "      <td>714.000000</td>\n",
       "      <td>891.000000</td>\n",
       "      <td>891.000000</td>\n",
       "      <td>891.000000</td>\n",
       "    </tr>\n",
       "    <tr>\n",
       "      <th>mean</th>\n",
       "      <td>446.000000</td>\n",
       "      <td>0.383838</td>\n",
       "      <td>2.308642</td>\n",
       "      <td>29.699118</td>\n",
       "      <td>0.523008</td>\n",
       "      <td>0.381594</td>\n",
       "      <td>32.204208</td>\n",
       "    </tr>\n",
       "    <tr>\n",
       "      <th>std</th>\n",
       "      <td>257.353842</td>\n",
       "      <td>0.486592</td>\n",
       "      <td>0.836071</td>\n",
       "      <td>14.526497</td>\n",
       "      <td>1.102743</td>\n",
       "      <td>0.806057</td>\n",
       "      <td>49.693429</td>\n",
       "    </tr>\n",
       "    <tr>\n",
       "      <th>min</th>\n",
       "      <td>1.000000</td>\n",
       "      <td>0.000000</td>\n",
       "      <td>1.000000</td>\n",
       "      <td>0.420000</td>\n",
       "      <td>0.000000</td>\n",
       "      <td>0.000000</td>\n",
       "      <td>0.000000</td>\n",
       "    </tr>\n",
       "    <tr>\n",
       "      <th>25%</th>\n",
       "      <td>223.500000</td>\n",
       "      <td>0.000000</td>\n",
       "      <td>2.000000</td>\n",
       "      <td>20.125000</td>\n",
       "      <td>0.000000</td>\n",
       "      <td>0.000000</td>\n",
       "      <td>7.910400</td>\n",
       "    </tr>\n",
       "    <tr>\n",
       "      <th>50%</th>\n",
       "      <td>446.000000</td>\n",
       "      <td>0.000000</td>\n",
       "      <td>3.000000</td>\n",
       "      <td>28.000000</td>\n",
       "      <td>0.000000</td>\n",
       "      <td>0.000000</td>\n",
       "      <td>14.454200</td>\n",
       "    </tr>\n",
       "    <tr>\n",
       "      <th>75%</th>\n",
       "      <td>668.500000</td>\n",
       "      <td>1.000000</td>\n",
       "      <td>3.000000</td>\n",
       "      <td>38.000000</td>\n",
       "      <td>1.000000</td>\n",
       "      <td>0.000000</td>\n",
       "      <td>31.000000</td>\n",
       "    </tr>\n",
       "    <tr>\n",
       "      <th>max</th>\n",
       "      <td>891.000000</td>\n",
       "      <td>1.000000</td>\n",
       "      <td>3.000000</td>\n",
       "      <td>80.000000</td>\n",
       "      <td>8.000000</td>\n",
       "      <td>6.000000</td>\n",
       "      <td>512.329200</td>\n",
       "    </tr>\n",
       "  </tbody>\n",
       "</table>\n",
       "</div>"
      ],
      "text/plain": [
       "       PassengerId    Survived      Pclass         Age       SibSp  \\\n",
       "count   891.000000  891.000000  891.000000  714.000000  891.000000   \n",
       "mean    446.000000    0.383838    2.308642   29.699118    0.523008   \n",
       "std     257.353842    0.486592    0.836071   14.526497    1.102743   \n",
       "min       1.000000    0.000000    1.000000    0.420000    0.000000   \n",
       "25%     223.500000    0.000000    2.000000   20.125000    0.000000   \n",
       "50%     446.000000    0.000000    3.000000   28.000000    0.000000   \n",
       "75%     668.500000    1.000000    3.000000   38.000000    1.000000   \n",
       "max     891.000000    1.000000    3.000000   80.000000    8.000000   \n",
       "\n",
       "            Parch        Fare  \n",
       "count  891.000000  891.000000  \n",
       "mean     0.381594   32.204208  \n",
       "std      0.806057   49.693429  \n",
       "min      0.000000    0.000000  \n",
       "25%      0.000000    7.910400  \n",
       "50%      0.000000   14.454200  \n",
       "75%      0.000000   31.000000  \n",
       "max      6.000000  512.329200  "
      ]
     },
     "execution_count": 7,
     "metadata": {},
     "output_type": "execute_result"
    }
   ],
   "source": [
    "#INFO about numerical values\n",
    "df.describe()"
   ]
  },
  {
   "cell_type": "code",
   "execution_count": 8,
   "id": "living-wireless",
   "metadata": {
    "execution": {
     "iopub.execute_input": "2021-06-15T17:06:09.133505Z",
     "iopub.status.busy": "2021-06-15T17:06:09.132819Z",
     "iopub.status.idle": "2021-06-15T17:06:09.168395Z",
     "shell.execute_reply": "2021-06-15T17:06:09.168859Z",
     "shell.execute_reply.started": "2021-06-15T16:21:29.207474Z"
    },
    "papermill": {
     "duration": 0.100682,
     "end_time": "2021-06-15T17:06:09.169036",
     "exception": false,
     "start_time": "2021-06-15T17:06:09.068354",
     "status": "completed"
    },
    "tags": []
   },
   "outputs": [
    {
     "data": {
      "text/html": [
       "<div>\n",
       "<style scoped>\n",
       "    .dataframe tbody tr th:only-of-type {\n",
       "        vertical-align: middle;\n",
       "    }\n",
       "\n",
       "    .dataframe tbody tr th {\n",
       "        vertical-align: top;\n",
       "    }\n",
       "\n",
       "    .dataframe thead th {\n",
       "        text-align: right;\n",
       "    }\n",
       "</style>\n",
       "<table border=\"1\" class=\"dataframe\">\n",
       "  <thead>\n",
       "    <tr style=\"text-align: right;\">\n",
       "      <th></th>\n",
       "      <th>Name</th>\n",
       "      <th>Sex</th>\n",
       "      <th>Ticket</th>\n",
       "      <th>Cabin</th>\n",
       "      <th>Embarked</th>\n",
       "    </tr>\n",
       "  </thead>\n",
       "  <tbody>\n",
       "    <tr>\n",
       "      <th>count</th>\n",
       "      <td>891</td>\n",
       "      <td>891</td>\n",
       "      <td>891</td>\n",
       "      <td>204</td>\n",
       "      <td>889</td>\n",
       "    </tr>\n",
       "    <tr>\n",
       "      <th>unique</th>\n",
       "      <td>891</td>\n",
       "      <td>2</td>\n",
       "      <td>681</td>\n",
       "      <td>147</td>\n",
       "      <td>3</td>\n",
       "    </tr>\n",
       "    <tr>\n",
       "      <th>top</th>\n",
       "      <td>Greenberg, Mr. Samuel</td>\n",
       "      <td>male</td>\n",
       "      <td>347082</td>\n",
       "      <td>C23 C25 C27</td>\n",
       "      <td>S</td>\n",
       "    </tr>\n",
       "    <tr>\n",
       "      <th>freq</th>\n",
       "      <td>1</td>\n",
       "      <td>577</td>\n",
       "      <td>7</td>\n",
       "      <td>4</td>\n",
       "      <td>644</td>\n",
       "    </tr>\n",
       "  </tbody>\n",
       "</table>\n",
       "</div>"
      ],
      "text/plain": [
       "                         Name   Sex  Ticket        Cabin Embarked\n",
       "count                     891   891     891          204      889\n",
       "unique                    891     2     681          147        3\n",
       "top     Greenberg, Mr. Samuel  male  347082  C23 C25 C27        S\n",
       "freq                        1   577       7            4      644"
      ]
     },
     "execution_count": 8,
     "metadata": {},
     "output_type": "execute_result"
    }
   ],
   "source": [
    "#INFO on non numerical values\n",
    "df.describe(include=[\"object\",\"bool\"])"
   ]
  },
  {
   "cell_type": "code",
   "execution_count": 9,
   "id": "sorted-simpson",
   "metadata": {
    "execution": {
     "iopub.execute_input": "2021-06-15T17:06:09.295709Z",
     "iopub.status.busy": "2021-06-15T17:06:09.295091Z",
     "iopub.status.idle": "2021-06-15T17:06:09.299567Z",
     "shell.execute_reply": "2021-06-15T17:06:09.299990Z",
     "shell.execute_reply.started": "2021-06-15T16:21:29.243679Z"
    },
    "papermill": {
     "duration": 0.069516,
     "end_time": "2021-06-15T17:06:09.300146",
     "exception": false,
     "start_time": "2021-06-15T17:06:09.230630",
     "status": "completed"
    },
    "tags": []
   },
   "outputs": [],
   "source": [
    "#Removing the non essential attributes\n",
    "df.drop([\"PassengerId\",\"Name\",\"Ticket\"],inplace=True,axis=1)"
   ]
  },
  {
   "cell_type": "code",
   "execution_count": 10,
   "id": "color-barrier",
   "metadata": {
    "execution": {
     "iopub.execute_input": "2021-06-15T17:06:09.429626Z",
     "iopub.status.busy": "2021-06-15T17:06:09.429049Z",
     "iopub.status.idle": "2021-06-15T17:06:09.433685Z",
     "shell.execute_reply": "2021-06-15T17:06:09.434161Z",
     "shell.execute_reply.started": "2021-06-15T16:21:29.254339Z"
    },
    "papermill": {
     "duration": 0.072073,
     "end_time": "2021-06-15T17:06:09.434316",
     "exception": false,
     "start_time": "2021-06-15T17:06:09.362243",
     "status": "completed"
    },
    "tags": []
   },
   "outputs": [],
   "source": [
    "df.drop([\"Cabin\"],inplace = True,axis =1)"
   ]
  },
  {
   "cell_type": "code",
   "execution_count": 11,
   "id": "classified-azerbaijan",
   "metadata": {
    "execution": {
     "iopub.execute_input": "2021-06-15T17:06:09.566212Z",
     "iopub.status.busy": "2021-06-15T17:06:09.565284Z",
     "iopub.status.idle": "2021-06-15T17:06:09.568443Z",
     "shell.execute_reply": "2021-06-15T17:06:09.567960Z",
     "shell.execute_reply.started": "2021-06-15T16:21:29.265973Z"
    },
    "papermill": {
     "duration": 0.072611,
     "end_time": "2021-06-15T17:06:09.568608",
     "exception": false,
     "start_time": "2021-06-15T17:06:09.495997",
     "status": "completed"
    },
    "tags": []
   },
   "outputs": [],
   "source": [
    "d = {\"male\":1,\"female\":0}\n",
    "df[\"Sex\"] = df[\"Sex\"].map(d)"
   ]
  },
  {
   "cell_type": "code",
   "execution_count": 12,
   "id": "obvious-astrology",
   "metadata": {
    "execution": {
     "iopub.execute_input": "2021-06-15T17:06:09.703984Z",
     "iopub.status.busy": "2021-06-15T17:06:09.703115Z",
     "iopub.status.idle": "2021-06-15T17:06:09.707706Z",
     "shell.execute_reply": "2021-06-15T17:06:09.708137Z",
     "shell.execute_reply.started": "2021-06-15T16:21:29.28013Z"
    },
    "papermill": {
     "duration": 0.075373,
     "end_time": "2021-06-15T17:06:09.708304",
     "exception": false,
     "start_time": "2021-06-15T17:06:09.632931",
     "status": "completed"
    },
    "tags": []
   },
   "outputs": [
    {
     "data": {
      "text/plain": [
       "Survived      0\n",
       "Pclass        0\n",
       "Sex           0\n",
       "Age         177\n",
       "SibSp         0\n",
       "Parch         0\n",
       "Fare          0\n",
       "Embarked      2\n",
       "dtype: int64"
      ]
     },
     "execution_count": 12,
     "metadata": {},
     "output_type": "execute_result"
    }
   ],
   "source": [
    "#Calculate the sum of all null values for each attribute if any\n",
    "df.isnull().sum()"
   ]
  },
  {
   "cell_type": "code",
   "execution_count": 13,
   "id": "brief-pharmacy",
   "metadata": {
    "execution": {
     "iopub.execute_input": "2021-06-15T17:06:09.835883Z",
     "iopub.status.busy": "2021-06-15T17:06:09.834986Z",
     "iopub.status.idle": "2021-06-15T17:06:09.844880Z",
     "shell.execute_reply": "2021-06-15T17:06:09.844363Z",
     "shell.execute_reply.started": "2021-06-15T16:21:29.294763Z"
    },
    "papermill": {
     "duration": 0.074724,
     "end_time": "2021-06-15T17:06:09.845022",
     "exception": false,
     "start_time": "2021-06-15T17:06:09.770298",
     "status": "completed"
    },
    "tags": []
   },
   "outputs": [],
   "source": [
    "#Handling the missing values for Age and Embarked\n",
    "df[\"Age\"] = df[\"Age\"].fillna(df[\"Age\"].mean())\n",
    "df[\"Embarked\"] = df[\"Embarked\"].fillna(axis=0,method=\"bfill\")"
   ]
  },
  {
   "cell_type": "code",
   "execution_count": 14,
   "id": "aging-endorsement",
   "metadata": {
    "execution": {
     "iopub.execute_input": "2021-06-15T17:06:09.976779Z",
     "iopub.status.busy": "2021-06-15T17:06:09.975801Z",
     "iopub.status.idle": "2021-06-15T17:06:09.987301Z",
     "shell.execute_reply": "2021-06-15T17:06:09.986728Z",
     "shell.execute_reply.started": "2021-06-15T16:21:29.31044Z"
    },
    "papermill": {
     "duration": 0.079597,
     "end_time": "2021-06-15T17:06:09.987467",
     "exception": false,
     "start_time": "2021-06-15T17:06:09.907870",
     "status": "completed"
    },
    "tags": []
   },
   "outputs": [
    {
     "data": {
      "text/html": [
       "<div>\n",
       "<style scoped>\n",
       "    .dataframe tbody tr th:only-of-type {\n",
       "        vertical-align: middle;\n",
       "    }\n",
       "\n",
       "    .dataframe tbody tr th {\n",
       "        vertical-align: top;\n",
       "    }\n",
       "\n",
       "    .dataframe thead th {\n",
       "        text-align: right;\n",
       "    }\n",
       "</style>\n",
       "<table border=\"1\" class=\"dataframe\">\n",
       "  <thead>\n",
       "    <tr style=\"text-align: right;\">\n",
       "      <th></th>\n",
       "      <th>Survived</th>\n",
       "      <th>Pclass</th>\n",
       "      <th>Sex</th>\n",
       "      <th>Age</th>\n",
       "      <th>SibSp</th>\n",
       "      <th>Parch</th>\n",
       "      <th>Fare</th>\n",
       "      <th>Embarked</th>\n",
       "    </tr>\n",
       "  </thead>\n",
       "  <tbody>\n",
       "    <tr>\n",
       "      <th>0</th>\n",
       "      <td>0</td>\n",
       "      <td>3</td>\n",
       "      <td>1</td>\n",
       "      <td>22.0</td>\n",
       "      <td>1</td>\n",
       "      <td>0</td>\n",
       "      <td>7.2500</td>\n",
       "      <td>S</td>\n",
       "    </tr>\n",
       "    <tr>\n",
       "      <th>1</th>\n",
       "      <td>1</td>\n",
       "      <td>1</td>\n",
       "      <td>0</td>\n",
       "      <td>38.0</td>\n",
       "      <td>1</td>\n",
       "      <td>0</td>\n",
       "      <td>71.2833</td>\n",
       "      <td>C</td>\n",
       "    </tr>\n",
       "    <tr>\n",
       "      <th>2</th>\n",
       "      <td>1</td>\n",
       "      <td>3</td>\n",
       "      <td>0</td>\n",
       "      <td>26.0</td>\n",
       "      <td>0</td>\n",
       "      <td>0</td>\n",
       "      <td>7.9250</td>\n",
       "      <td>S</td>\n",
       "    </tr>\n",
       "    <tr>\n",
       "      <th>3</th>\n",
       "      <td>1</td>\n",
       "      <td>1</td>\n",
       "      <td>0</td>\n",
       "      <td>35.0</td>\n",
       "      <td>1</td>\n",
       "      <td>0</td>\n",
       "      <td>53.1000</td>\n",
       "      <td>S</td>\n",
       "    </tr>\n",
       "    <tr>\n",
       "      <th>4</th>\n",
       "      <td>0</td>\n",
       "      <td>3</td>\n",
       "      <td>1</td>\n",
       "      <td>35.0</td>\n",
       "      <td>0</td>\n",
       "      <td>0</td>\n",
       "      <td>8.0500</td>\n",
       "      <td>S</td>\n",
       "    </tr>\n",
       "  </tbody>\n",
       "</table>\n",
       "</div>"
      ],
      "text/plain": [
       "   Survived  Pclass  Sex   Age  SibSp  Parch     Fare Embarked\n",
       "0         0       3    1  22.0      1      0   7.2500        S\n",
       "1         1       1    0  38.0      1      0  71.2833        C\n",
       "2         1       3    0  26.0      0      0   7.9250        S\n",
       "3         1       1    0  35.0      1      0  53.1000        S\n",
       "4         0       3    1  35.0      0      0   8.0500        S"
      ]
     },
     "execution_count": 14,
     "metadata": {},
     "output_type": "execute_result"
    }
   ],
   "source": [
    "df.head()"
   ]
  },
  {
   "cell_type": "markdown",
   "id": "acting-charm",
   "metadata": {
    "papermill": {
     "duration": 0.063412,
     "end_time": "2021-06-15T17:06:10.114892",
     "exception": false,
     "start_time": "2021-06-15T17:06:10.051480",
     "status": "completed"
    },
    "tags": []
   },
   "source": [
    "# EDA"
   ]
  },
  {
   "cell_type": "markdown",
   "id": "spiritual-sixth",
   "metadata": {
    "papermill": {
     "duration": 0.061376,
     "end_time": "2021-06-15T17:06:10.238873",
     "exception": false,
     "start_time": "2021-06-15T17:06:10.177497",
     "status": "completed"
    },
    "tags": []
   },
   "source": [
    "#  UNIVARIATE ANALYSIS"
   ]
  },
  {
   "cell_type": "markdown",
   "id": "cognitive-stations",
   "metadata": {
    "papermill": {
     "duration": 0.062349,
     "end_time": "2021-06-15T17:06:10.363381",
     "exception": false,
     "start_time": "2021-06-15T17:06:10.301032",
     "status": "completed"
    },
    "tags": []
   },
   "source": [
    "1. QUANTITATIVE VARIABLES"
   ]
  },
  {
   "cell_type": "code",
   "execution_count": 15,
   "id": "attended-access",
   "metadata": {
    "execution": {
     "iopub.execute_input": "2021-06-15T17:06:10.494644Z",
     "iopub.status.busy": "2021-06-15T17:06:10.493925Z",
     "iopub.status.idle": "2021-06-15T17:06:10.836756Z",
     "shell.execute_reply": "2021-06-15T17:06:10.837243Z",
     "shell.execute_reply.started": "2021-06-15T16:21:29.332737Z"
    },
    "papermill": {
     "duration": 0.411706,
     "end_time": "2021-06-15T17:06:10.837435",
     "exception": false,
     "start_time": "2021-06-15T17:06:10.425729",
     "status": "completed"
    },
    "tags": []
   },
   "outputs": [
    {
     "name": "stderr",
     "output_type": "stream",
     "text": [
      "/opt/conda/lib/python3.7/site-packages/pandas/plotting/_matplotlib/tools.py:400: MatplotlibDeprecationWarning: \n",
      "The is_first_col function was deprecated in Matplotlib 3.4 and will be removed two minor releases later. Use ax.get_subplotspec().is_first_col() instead.\n",
      "  if ax.is_first_col():\n"
     ]
    },
    {
     "data": {
      "text/plain": [
       "array([[<AxesSubplot:title={'center':'Fare'}>,\n",
       "        <AxesSubplot:title={'center':'Age'}>]], dtype=object)"
      ]
     },
     "execution_count": 15,
     "metadata": {},
     "output_type": "execute_result"
    },
    {
     "data": {
      "image/png": "[encoded data removed]",
      "text/plain": [
       "<Figure size 720x288 with 2 Axes>"
      ]
     },
     "metadata": {
      "needs_background": "light"
     },
     "output_type": "display_data"
    }
   ],
   "source": [
    "features = [\"Fare\",\"Age\"]\n",
    "df[features].hist(figsize=(10,4))"
   ]
  },
  {
   "cell_type": "code",
   "execution_count": 16,
   "id": "ruled-trading",
   "metadata": {
    "execution": {
     "iopub.execute_input": "2021-06-15T17:06:10.974000Z",
     "iopub.status.busy": "2021-06-15T17:06:10.973289Z",
     "iopub.status.idle": "2021-06-15T17:06:11.286641Z",
     "shell.execute_reply": "2021-06-15T17:06:11.286054Z",
     "shell.execute_reply.started": "2021-06-15T16:21:29.705119Z"
    },
    "papermill": {
     "duration": 0.385441,
     "end_time": "2021-06-15T17:06:11.286780",
     "exception": false,
     "start_time": "2021-06-15T17:06:10.901339",
     "status": "completed"
    },
    "tags": []
   },
   "outputs": [
    {
     "name": "stderr",
     "output_type": "stream",
     "text": [
      "/opt/conda/lib/python3.7/site-packages/pandas/plotting/_matplotlib/tools.py:400: MatplotlibDeprecationWarning: \n",
      "The is_first_col function was deprecated in Matplotlib 3.4 and will be removed two minor releases later. Use ax.get_subplotspec().is_first_col() instead.\n",
      "  if ax.is_first_col():\n"
     ]
    },
    {
     "data": {
      "text/plain": [
       "array([[<AxesSubplot:ylabel='Density'>, <AxesSubplot:ylabel='Density'>]],\n",
       "      dtype=object)"
      ]
     },
     "execution_count": 16,
     "metadata": {},
     "output_type": "execute_result"
    },
    {
     "data": {
      "image/png": "[encoded data removed]",
      "text/plain": [
       "<Figure size 720x288 with 2 Axes>"
      ]
     },
     "metadata": {
      "needs_background": "light"
     },
     "output_type": "display_data"
    }
   ],
   "source": [
    "df[features].plot(kind=\"density\",subplots=True,layout=(1,2),figsize=(10,4))"
   ]
  },
  {
   "cell_type": "code",
   "execution_count": 17,
   "id": "joint-evanescence",
   "metadata": {
    "execution": {
     "iopub.execute_input": "2021-06-15T17:06:11.422205Z",
     "iopub.status.busy": "2021-06-15T17:06:11.421604Z",
     "iopub.status.idle": "2021-06-15T17:06:11.673843Z",
     "shell.execute_reply": "2021-06-15T17:06:11.673194Z",
     "shell.execute_reply.started": "2021-06-15T16:21:30.058118Z"
    },
    "papermill": {
     "duration": 0.322451,
     "end_time": "2021-06-15T17:06:11.673995",
     "exception": false,
     "start_time": "2021-06-15T17:06:11.351544",
     "status": "completed"
    },
    "tags": []
   },
   "outputs": [
    {
     "name": "stderr",
     "output_type": "stream",
     "text": [
      "/opt/conda/lib/python3.7/site-packages/seaborn/distributions.py:2557: FutureWarning: `distplot` is a deprecated function and will be removed in a future version. Please adapt your code to use either `displot` (a figure-level function with similar flexibility) or `histplot` (an axes-level function for histograms).\n",
      "  warnings.warn(msg, FutureWarning)\n"
     ]
    },
    {
     "data": {
      "text/plain": [
       "<AxesSubplot:xlabel='Fare', ylabel='Density'>"
      ]
     },
     "execution_count": 17,
     "metadata": {},
     "output_type": "execute_result"
    },
    {
     "data": {
      "image/png": "[encoded data removed]",
      "text/plain": [
       "<Figure size 432x288 with 1 Axes>"
      ]
     },
     "metadata": {
      "needs_background": "light"
     },
     "output_type": "display_data"
    }
   ],
   "source": [
    "sns.distplot(df[\"Fare\"])"
   ]
  },
  {
   "cell_type": "code",
   "execution_count": 18,
   "id": "prime-renaissance",
   "metadata": {
    "execution": {
     "iopub.execute_input": "2021-06-15T17:06:11.934677Z",
     "iopub.status.busy": "2021-06-15T17:06:11.922046Z",
     "iopub.status.idle": "2021-06-15T17:06:12.115623Z",
     "shell.execute_reply": "2021-06-15T17:06:12.114682Z",
     "shell.execute_reply.started": "2021-06-15T16:21:30.353573Z"
    },
    "papermill": {
     "duration": 0.372304,
     "end_time": "2021-06-15T17:06:12.115791",
     "exception": false,
     "start_time": "2021-06-15T17:06:11.743487",
     "status": "completed"
    },
    "tags": []
   },
   "outputs": [
    {
     "name": "stderr",
     "output_type": "stream",
     "text": [
      "/opt/conda/lib/python3.7/site-packages/seaborn/distributions.py:2557: FutureWarning: `distplot` is a deprecated function and will be removed in a future version. Please adapt your code to use either `displot` (a figure-level function with similar flexibility) or `histplot` (an axes-level function for histograms).\n",
      "  warnings.warn(msg, FutureWarning)\n"
     ]
    },
    {
     "data": {
      "text/plain": [
       "<AxesSubplot:xlabel='Age', ylabel='Density'>"
      ]
     },
     "execution_count": 18,
     "metadata": {},
     "output_type": "execute_result"
    },
    {
     "data": {
      "image/png": "[encoded data removed]",
      "text/plain": [
       "<Figure size 432x288 with 1 Axes>"
      ]
     },
     "metadata": {
      "needs_background": "light"
     },
     "output_type": "display_data"
    }
   ],
   "source": [
    "sns.distplot(df[\"Age\"])"
   ]
  },
  {
   "cell_type": "markdown",
   "id": "hungry-march",
   "metadata": {
    "papermill": {
     "duration": 0.067948,
     "end_time": "2021-06-15T17:06:12.253222",
     "exception": false,
     "start_time": "2021-06-15T17:06:12.185274",
     "status": "completed"
    },
    "tags": []
   },
   "source": [
    "2. Categorical values"
   ]
  },
  {
   "cell_type": "code",
   "execution_count": 19,
   "id": "prompt-grass",
   "metadata": {
    "execution": {
     "iopub.execute_input": "2021-06-15T17:06:12.397403Z",
     "iopub.status.busy": "2021-06-15T17:06:12.396781Z",
     "iopub.status.idle": "2021-06-15T17:06:12.952510Z",
     "shell.execute_reply": "2021-06-15T17:06:12.951996Z",
     "shell.execute_reply.started": "2021-06-15T16:21:30.58964Z"
    },
    "papermill": {
     "duration": 0.630736,
     "end_time": "2021-06-15T17:06:12.952667",
     "exception": false,
     "start_time": "2021-06-15T17:06:12.321931",
     "status": "completed"
    },
    "tags": []
   },
   "outputs": [
    {
     "name": "stderr",
     "output_type": "stream",
     "text": [
      "/opt/conda/lib/python3.7/site-packages/seaborn/_decorators.py:43: FutureWarning: Pass the following variable as a keyword arg: x. From version 0.12, the only valid positional argument will be `data`, and passing other arguments without an explicit keyword will result in an error or misinterpretation.\n",
      "  FutureWarning\n",
      "/opt/conda/lib/python3.7/site-packages/seaborn/_decorators.py:43: FutureWarning: Pass the following variable as a keyword arg: x. From version 0.12, the only valid positional argument will be `data`, and passing other arguments without an explicit keyword will result in an error or misinterpretation.\n",
      "  FutureWarning\n",
      "/opt/conda/lib/python3.7/site-packages/seaborn/_decorators.py:43: FutureWarning: Pass the following variable as a keyword arg: x. From version 0.12, the only valid positional argument will be `data`, and passing other arguments without an explicit keyword will result in an error or misinterpretation.\n",
      "  FutureWarning\n",
      "/opt/conda/lib/python3.7/site-packages/seaborn/_decorators.py:43: FutureWarning: Pass the following variable as a keyword arg: x. From version 0.12, the only valid positional argument will be `data`, and passing other arguments without an explicit keyword will result in an error or misinterpretation.\n",
      "  FutureWarning\n",
      "/opt/conda/lib/python3.7/site-packages/seaborn/_decorators.py:43: FutureWarning: Pass the following variable as a keyword arg: x. From version 0.12, the only valid positional argument will be `data`, and passing other arguments without an explicit keyword will result in an error or misinterpretation.\n",
      "  FutureWarning\n"
     ]
    },
    {
     "data": {
      "text/plain": [
       "<AxesSubplot:xlabel='Embarked', ylabel='count'>"
      ]
     },
     "execution_count": 19,
     "metadata": {},
     "output_type": "execute_result"
    },
    {
     "data": {
      "image/png": "[encoded data removed]",
      "text/plain": [
       "<Figure size 432x1800 with 5 Axes>"
      ]
     },
     "metadata": {
      "needs_background": "light"
     },
     "output_type": "display_data"
    }
   ],
   "source": [
    "_,axes=plt.subplots(5,1,figsize=(6,25))\n",
    "\n",
    "\n",
    "sns.countplot(\"Pclass\",data=df,ax=axes[0])\n",
    "sns.countplot(\"Sex\",data=df,ax=axes[1])\n",
    "sns.countplot(\"SibSp\",data=df,ax=axes[2])\n",
    "sns.countplot(\"Parch\",data=df,ax=axes[3])\n",
    "sns.countplot(\"Embarked\",data=df,ax=axes[4])"
   ]
  },
  {
   "cell_type": "markdown",
   "id": "urban-trigger",
   "metadata": {
    "papermill": {
     "duration": 0.069241,
     "end_time": "2021-06-15T17:06:13.092161",
     "exception": false,
     "start_time": "2021-06-15T17:06:13.022920",
     "status": "completed"
    },
    "tags": []
   },
   "source": [
    "# MULTIVARIATE ANALYSIS\n"
   ]
  },
  {
   "cell_type": "markdown",
   "id": "determined-thickness",
   "metadata": {
    "papermill": {
     "duration": 0.069975,
     "end_time": "2021-06-15T17:06:13.231815",
     "exception": false,
     "start_time": "2021-06-15T17:06:13.161840",
     "status": "completed"
    },
    "tags": []
   },
   "source": [
    "# # SURVIVAL STATS"
   ]
  },
  {
   "cell_type": "code",
   "execution_count": 20,
   "id": "willing-system",
   "metadata": {
    "execution": {
     "iopub.execute_input": "2021-06-15T17:06:13.377453Z",
     "iopub.status.busy": "2021-06-15T17:06:13.376731Z",
     "iopub.status.idle": "2021-06-15T17:06:13.379614Z",
     "shell.execute_reply": "2021-06-15T17:06:13.380036Z",
     "shell.execute_reply.started": "2021-06-15T16:21:31.240561Z"
    },
    "papermill": {
     "duration": 0.078568,
     "end_time": "2021-06-15T17:06:13.380184",
     "exception": false,
     "start_time": "2021-06-15T17:06:13.301616",
     "status": "completed"
    },
    "tags": []
   },
   "outputs": [],
   "source": [
    "df[\"Survived\"] = df[\"Survived\"].map({0:\"No\",1:\"Yes\"})"
   ]
  },
  {
   "cell_type": "code",
   "execution_count": 21,
   "id": "greatest-conservative",
   "metadata": {
    "execution": {
     "iopub.execute_input": "2021-06-15T17:06:13.552863Z",
     "iopub.status.busy": "2021-06-15T17:06:13.551875Z",
     "iopub.status.idle": "2021-06-15T17:06:13.651726Z",
     "shell.execute_reply": "2021-06-15T17:06:13.650960Z",
     "shell.execute_reply.started": "2021-06-15T16:21:31.249523Z"
    },
    "papermill": {
     "duration": 0.202477,
     "end_time": "2021-06-15T17:06:13.651922",
     "exception": false,
     "start_time": "2021-06-15T17:06:13.449445",
     "status": "completed"
    },
    "tags": []
   },
   "outputs": [
    {
     "name": "stderr",
     "output_type": "stream",
     "text": [
      "/opt/conda/lib/python3.7/site-packages/seaborn/_decorators.py:43: FutureWarning: Pass the following variable as a keyword arg: x. From version 0.12, the only valid positional argument will be `data`, and passing other arguments without an explicit keyword will result in an error or misinterpretation.\n",
      "  FutureWarning\n"
     ]
    },
    {
     "data": {
      "text/plain": [
       "<AxesSubplot:xlabel='Survived', ylabel='count'>"
      ]
     },
     "execution_count": 21,
     "metadata": {},
     "output_type": "execute_result"
    },
    {
     "data": {
      "image/png": "[encoded data removed]",
      "text/plain": [
       "<Figure size 432x288 with 1 Axes>"
      ]
     },
     "metadata": {
      "needs_background": "light"
     },
     "output_type": "display_data"
    }
   ],
   "source": [
    "sns.countplot(\"Survived\",data=df)"
   ]
  },
  {
   "cell_type": "code",
   "execution_count": 22,
   "id": "certified-puzzle",
   "metadata": {
    "execution": {
     "iopub.execute_input": "2021-06-15T17:06:13.817666Z",
     "iopub.status.busy": "2021-06-15T17:06:13.816759Z",
     "iopub.status.idle": "2021-06-15T17:06:13.951695Z",
     "shell.execute_reply": "2021-06-15T17:06:13.952381Z",
     "shell.execute_reply.started": "2021-06-15T16:21:31.387087Z"
    },
    "papermill": {
     "duration": 0.217442,
     "end_time": "2021-06-15T17:06:13.952639",
     "exception": false,
     "start_time": "2021-06-15T17:06:13.735197",
     "status": "completed"
    },
    "tags": []
   },
   "outputs": [
    {
     "name": "stderr",
     "output_type": "stream",
     "text": [
      "/opt/conda/lib/python3.7/site-packages/seaborn/_decorators.py:43: FutureWarning: Pass the following variable as a keyword arg: x. From version 0.12, the only valid positional argument will be `data`, and passing other arguments without an explicit keyword will result in an error or misinterpretation.\n",
      "  FutureWarning\n"
     ]
    },
    {
     "data": {
      "text/plain": [
       "<AxesSubplot:xlabel='Pclass', ylabel='count'>"
      ]
     },
     "execution_count": 22,
     "metadata": {},
     "output_type": "execute_result"
    },
    {
     "data": {
      "image/png": "[encoded data removed]",
      "text/plain": [
       "<Figure size 432x288 with 1 Axes>"
      ]
     },
     "metadata": {
      "needs_background": "light"
     },
     "output_type": "display_data"
    }
   ],
   "source": [
    "'''\n",
    "1st = Upper\n",
    "2nd = Middle\n",
    "3rd = Lower\n",
    "\n",
    "'''\n",
    "\n",
    "sns.countplot(\"Pclass\", data = df)"
   ]
  },
  {
   "cell_type": "markdown",
   "id": "statistical-equivalent",
   "metadata": {
    "papermill": {
     "duration": 0.072808,
     "end_time": "2021-06-15T17:06:14.102962",
     "exception": false,
     "start_time": "2021-06-15T17:06:14.030154",
     "status": "completed"
    },
    "tags": []
   },
   "source": [
    "1. SURVIVAL VS PCLASS"
   ]
  },
  {
   "cell_type": "code",
   "execution_count": 23,
   "id": "considerable-found",
   "metadata": {
    "execution": {
     "iopub.execute_input": "2021-06-15T17:06:14.256768Z",
     "iopub.status.busy": "2021-06-15T17:06:14.255841Z",
     "iopub.status.idle": "2021-06-15T17:06:14.306473Z",
     "shell.execute_reply": "2021-06-15T17:06:14.305519Z",
     "shell.execute_reply.started": "2021-06-15T16:21:31.623752Z"
    },
    "papermill": {
     "duration": 0.130357,
     "end_time": "2021-06-15T17:06:14.306626",
     "exception": false,
     "start_time": "2021-06-15T17:06:14.176269",
     "status": "completed"
    },
    "tags": []
   },
   "outputs": [
    {
     "data": {
      "text/html": [
       "<div>\n",
       "<style scoped>\n",
       "    .dataframe tbody tr th:only-of-type {\n",
       "        vertical-align: middle;\n",
       "    }\n",
       "\n",
       "    .dataframe tbody tr th {\n",
       "        vertical-align: top;\n",
       "    }\n",
       "\n",
       "    .dataframe thead th {\n",
       "        text-align: right;\n",
       "    }\n",
       "</style>\n",
       "<table border=\"1\" class=\"dataframe\">\n",
       "  <thead>\n",
       "    <tr style=\"text-align: right;\">\n",
       "      <th>Survived</th>\n",
       "      <th>No</th>\n",
       "      <th>Yes</th>\n",
       "      <th>All</th>\n",
       "    </tr>\n",
       "    <tr>\n",
       "      <th>Pclass</th>\n",
       "      <th></th>\n",
       "      <th></th>\n",
       "      <th></th>\n",
       "    </tr>\n",
       "  </thead>\n",
       "  <tbody>\n",
       "    <tr>\n",
       "      <th>1</th>\n",
       "      <td>80</td>\n",
       "      <td>136</td>\n",
       "      <td>216</td>\n",
       "    </tr>\n",
       "    <tr>\n",
       "      <th>2</th>\n",
       "      <td>97</td>\n",
       "      <td>87</td>\n",
       "      <td>184</td>\n",
       "    </tr>\n",
       "    <tr>\n",
       "      <th>3</th>\n",
       "      <td>372</td>\n",
       "      <td>119</td>\n",
       "      <td>491</td>\n",
       "    </tr>\n",
       "    <tr>\n",
       "      <th>All</th>\n",
       "      <td>549</td>\n",
       "      <td>342</td>\n",
       "      <td>891</td>\n",
       "    </tr>\n",
       "  </tbody>\n",
       "</table>\n",
       "</div>"
      ],
      "text/plain": [
       "Survived   No  Yes  All\n",
       "Pclass                 \n",
       "1          80  136  216\n",
       "2          97   87  184\n",
       "3         372  119  491\n",
       "All       549  342  891"
      ]
     },
     "execution_count": 23,
     "metadata": {},
     "output_type": "execute_result"
    }
   ],
   "source": [
    "#Did the pclass influence the survival rate of the person\n",
    "pd.crosstab(df[\"Survived\"],df[\"Pclass\"],margins=True).T"
   ]
  },
  {
   "cell_type": "code",
   "execution_count": 24,
   "id": "roman-wesley",
   "metadata": {
    "execution": {
     "iopub.execute_input": "2021-06-15T17:06:14.458321Z",
     "iopub.status.busy": "2021-06-15T17:06:14.457366Z",
     "iopub.status.idle": "2021-06-15T17:06:14.612638Z",
     "shell.execute_reply": "2021-06-15T17:06:14.611873Z",
     "shell.execute_reply.started": "2021-06-15T16:21:31.683037Z"
    },
    "papermill": {
     "duration": 0.233448,
     "end_time": "2021-06-15T17:06:14.612791",
     "exception": false,
     "start_time": "2021-06-15T17:06:14.379343",
     "status": "completed"
    },
    "tags": []
   },
   "outputs": [
    {
     "name": "stderr",
     "output_type": "stream",
     "text": [
      "/opt/conda/lib/python3.7/site-packages/seaborn/_decorators.py:43: FutureWarning: Pass the following variable as a keyword arg: x. From version 0.12, the only valid positional argument will be `data`, and passing other arguments without an explicit keyword will result in an error or misinterpretation.\n",
      "  FutureWarning\n"
     ]
    },
    {
     "data": {
      "text/plain": [
       "<AxesSubplot:xlabel='Pclass', ylabel='count'>"
      ]
     },
     "execution_count": 24,
     "metadata": {},
     "output_type": "execute_result"
    },
    {
     "data": {
      "image/png": "[encoded data removed]",
      "text/plain": [
       "<Figure size 432x288 with 1 Axes>"
      ]
     },
     "metadata": {
      "needs_background": "light"
     },
     "output_type": "display_data"
    }
   ],
   "source": [
    "sns.countplot(\"Pclass\",hue=\"Survived\",data=df)"
   ]
  },
  {
   "cell_type": "markdown",
   "id": "surrounded-comment",
   "metadata": {
    "papermill": {
     "duration": 0.074502,
     "end_time": "2021-06-15T17:06:14.761246",
     "exception": false,
     "start_time": "2021-06-15T17:06:14.686744",
     "status": "completed"
    },
    "tags": []
   },
   "source": [
    "Out of the 342 people that survived, the most were from Pclass 1 and 3. Flipside the people who died more are form Pclass 3. Henceforth we can infer that if a person was in Pclass 1, he/she would have the highest survival rate "
   ]
  },
  {
   "cell_type": "markdown",
   "id": "cheap-litigation",
   "metadata": {
    "papermill": {
     "duration": 0.073454,
     "end_time": "2021-06-15T17:06:14.908613",
     "exception": false,
     "start_time": "2021-06-15T17:06:14.835159",
     "status": "completed"
    },
    "tags": []
   },
   "source": [
    "2. SURVIVAL VS SEX"
   ]
  },
  {
   "cell_type": "code",
   "execution_count": 25,
   "id": "divine-norfolk",
   "metadata": {
    "execution": {
     "iopub.execute_input": "2021-06-15T17:06:15.064384Z",
     "iopub.status.busy": "2021-06-15T17:06:15.063662Z",
     "iopub.status.idle": "2021-06-15T17:06:15.104381Z",
     "shell.execute_reply": "2021-06-15T17:06:15.104855Z",
     "shell.execute_reply.started": "2021-06-15T16:21:31.871402Z"
    },
    "papermill": {
     "duration": 0.122999,
     "end_time": "2021-06-15T17:06:15.105022",
     "exception": false,
     "start_time": "2021-06-15T17:06:14.982023",
     "status": "completed"
    },
    "tags": []
   },
   "outputs": [
    {
     "data": {
      "text/html": [
       "<div>\n",
       "<style scoped>\n",
       "    .dataframe tbody tr th:only-of-type {\n",
       "        vertical-align: middle;\n",
       "    }\n",
       "\n",
       "    .dataframe tbody tr th {\n",
       "        vertical-align: top;\n",
       "    }\n",
       "\n",
       "    .dataframe thead th {\n",
       "        text-align: right;\n",
       "    }\n",
       "</style>\n",
       "<table border=\"1\" class=\"dataframe\">\n",
       "  <thead>\n",
       "    <tr style=\"text-align: right;\">\n",
       "      <th>Survived</th>\n",
       "      <th>No</th>\n",
       "      <th>Yes</th>\n",
       "      <th>All</th>\n",
       "    </tr>\n",
       "    <tr>\n",
       "      <th>Sex</th>\n",
       "      <th></th>\n",
       "      <th></th>\n",
       "      <th></th>\n",
       "    </tr>\n",
       "  </thead>\n",
       "  <tbody>\n",
       "    <tr>\n",
       "      <th>0</th>\n",
       "      <td>81</td>\n",
       "      <td>233</td>\n",
       "      <td>314</td>\n",
       "    </tr>\n",
       "    <tr>\n",
       "      <th>1</th>\n",
       "      <td>468</td>\n",
       "      <td>109</td>\n",
       "      <td>577</td>\n",
       "    </tr>\n",
       "    <tr>\n",
       "      <th>All</th>\n",
       "      <td>549</td>\n",
       "      <td>342</td>\n",
       "      <td>891</td>\n",
       "    </tr>\n",
       "  </tbody>\n",
       "</table>\n",
       "</div>"
      ],
      "text/plain": [
       "Survived   No  Yes  All\n",
       "Sex                    \n",
       "0          81  233  314\n",
       "1         468  109  577\n",
       "All       549  342  891"
      ]
     },
     "execution_count": 25,
     "metadata": {},
     "output_type": "execute_result"
    }
   ],
   "source": [
    "#Relationship b/w the sex and the survival rate\n",
    "pd.crosstab(df[\"Sex\"],df[\"Survived\"],margins=True)"
   ]
  },
  {
   "cell_type": "code",
   "execution_count": 26,
   "id": "great-albany",
   "metadata": {
    "execution": {
     "iopub.execute_input": "2021-06-15T17:06:15.263796Z",
     "iopub.status.busy": "2021-06-15T17:06:15.263167Z",
     "iopub.status.idle": "2021-06-15T17:06:15.390599Z",
     "shell.execute_reply": "2021-06-15T17:06:15.390017Z",
     "shell.execute_reply.started": "2021-06-15T16:21:31.934613Z"
    },
    "papermill": {
     "duration": 0.21098,
     "end_time": "2021-06-15T17:06:15.390728",
     "exception": false,
     "start_time": "2021-06-15T17:06:15.179748",
     "status": "completed"
    },
    "tags": []
   },
   "outputs": [
    {
     "name": "stderr",
     "output_type": "stream",
     "text": [
      "/opt/conda/lib/python3.7/site-packages/seaborn/_decorators.py:43: FutureWarning: Pass the following variable as a keyword arg: x. From version 0.12, the only valid positional argument will be `data`, and passing other arguments without an explicit keyword will result in an error or misinterpretation.\n",
      "  FutureWarning\n"
     ]
    },
    {
     "data": {
      "text/plain": [
       "<AxesSubplot:xlabel='Sex', ylabel='count'>"
      ]
     },
     "execution_count": 26,
     "metadata": {},
     "output_type": "execute_result"
    },
    {
     "data": {
      "image/png": "[encoded data removed]",
      "text/plain": [
       "<Figure size 432x288 with 1 Axes>"
      ]
     },
     "metadata": {
      "needs_background": "light"
     },
     "output_type": "display_data"
    }
   ],
   "source": [
    "sns.countplot(\"Sex\",hue=\"Survived\",data = df)"
   ]
  },
  {
   "cell_type": "markdown",
   "id": "flexible-ivory",
   "metadata": {
    "papermill": {
     "duration": 0.075804,
     "end_time": "2021-06-15T17:06:15.542751",
     "exception": false,
     "start_time": "2021-06-15T17:06:15.466947",
     "status": "completed"
    },
    "tags": []
   },
   "source": [
    "Females have higher chance of survival than that of males"
   ]
  },
  {
   "cell_type": "markdown",
   "id": "touched-feedback",
   "metadata": {
    "papermill": {
     "duration": 0.076309,
     "end_time": "2021-06-15T17:06:15.694983",
     "exception": false,
     "start_time": "2021-06-15T17:06:15.618674",
     "status": "completed"
    },
    "tags": []
   },
   "source": [
    "3. SURVIVAL VS AGE/FARE"
   ]
  },
  {
   "cell_type": "code",
   "execution_count": 27,
   "id": "local-shape",
   "metadata": {
    "execution": {
     "iopub.execute_input": "2021-06-15T17:06:15.853984Z",
     "iopub.status.busy": "2021-06-15T17:06:15.853304Z",
     "iopub.status.idle": "2021-06-15T17:06:16.265158Z",
     "shell.execute_reply": "2021-06-15T17:06:16.264705Z",
     "shell.execute_reply.started": "2021-06-15T16:21:32.092712Z"
    },
    "papermill": {
     "duration": 0.493547,
     "end_time": "2021-06-15T17:06:16.265284",
     "exception": false,
     "start_time": "2021-06-15T17:06:15.771737",
     "status": "completed"
    },
    "tags": []
   },
   "outputs": [
    {
     "name": "stderr",
     "output_type": "stream",
     "text": [
      "/opt/conda/lib/python3.7/site-packages/seaborn/_decorators.py:43: FutureWarning: Pass the following variables as keyword args: x, y. From version 0.12, the only valid positional argument will be `data`, and passing other arguments without an explicit keyword will result in an error or misinterpretation.\n",
      "  FutureWarning\n"
     ]
    },
    {
     "data": {
      "text/plain": [
       "<seaborn.axisgrid.FacetGrid at 0x7f386343b410>"
      ]
     },
     "execution_count": 27,
     "metadata": {},
     "output_type": "execute_result"
    },
    {
     "data": {
      "image/png": "[encoded data removed]",
      "text/plain": [
       "<Figure size 412x360 with 1 Axes>"
      ]
     },
     "metadata": {
      "needs_background": "light"
     },
     "output_type": "display_data"
    }
   ],
   "source": [
    "sns.lmplot(\"Age\",\"Fare\",hue=\"Survived\",data = df,fit_reg=False)"
   ]
  },
  {
   "cell_type": "code",
   "execution_count": 28,
   "id": "accredited-people",
   "metadata": {
    "execution": {
     "iopub.execute_input": "2021-06-15T17:06:16.452431Z",
     "iopub.status.busy": "2021-06-15T17:06:16.447339Z",
     "iopub.status.idle": "2021-06-15T17:06:16.677658Z",
     "shell.execute_reply": "2021-06-15T17:06:16.678093Z",
     "shell.execute_reply.started": "2021-06-15T16:21:32.509946Z"
    },
    "papermill": {
     "duration": 0.335547,
     "end_time": "2021-06-15T17:06:16.678271",
     "exception": false,
     "start_time": "2021-06-15T17:06:16.342724",
     "status": "completed"
    },
    "tags": []
   },
   "outputs": [
    {
     "data": {
      "text/plain": [
       "<AxesSubplot:xlabel='Survived', ylabel='Age'>"
      ]
     },
     "execution_count": 28,
     "metadata": {},
     "output_type": "execute_result"
    },
    {
     "data": {
      "image/png": "[encoded data removed]",
      "text/plain": [
       "<Figure size 576x360 with 2 Axes>"
      ]
     },
     "metadata": {
      "needs_background": "light"
     },
     "output_type": "display_data"
    }
   ],
   "source": [
    "_,axes = plt.subplots(1,2,figsize=(8,5))\n",
    "\n",
    "sns.boxplot(y=\"Age\",x=\"Survived\",data = df,ax = axes[0])\n",
    "sns.violinplot(y=\"Age\",x=\"Survived\",data = df,ax=axes[1])"
   ]
  },
  {
   "cell_type": "markdown",
   "id": "golden-prairie",
   "metadata": {
    "papermill": {
     "duration": 0.083101,
     "end_time": "2021-06-15T17:06:16.842104",
     "exception": false,
     "start_time": "2021-06-15T17:06:16.759003",
     "status": "completed"
    },
    "tags": []
   },
   "source": [
    "Younger people have higher chance of surviving. As the age increases, the Survival rate decreases\n",
    "The Fare does not have any linear relation with the survival rate. "
   ]
  },
  {
   "cell_type": "markdown",
   "id": "disciplinary-gather",
   "metadata": {
    "papermill": {
     "duration": 0.078621,
     "end_time": "2021-06-15T17:06:16.999959",
     "exception": false,
     "start_time": "2021-06-15T17:06:16.921338",
     "status": "completed"
    },
    "tags": []
   },
   "source": [
    "4. SURVIVAL RATE VS SibSp/Parch"
   ]
  },
  {
   "cell_type": "code",
   "execution_count": 29,
   "id": "twelve-average",
   "metadata": {
    "execution": {
     "iopub.execute_input": "2021-06-15T17:06:17.162962Z",
     "iopub.status.busy": "2021-06-15T17:06:17.162019Z",
     "iopub.status.idle": "2021-06-15T17:06:17.534237Z",
     "shell.execute_reply": "2021-06-15T17:06:17.534710Z",
     "shell.execute_reply.started": "2021-06-15T16:21:32.817808Z"
    },
    "papermill": {
     "duration": 0.454434,
     "end_time": "2021-06-15T17:06:17.534877",
     "exception": false,
     "start_time": "2021-06-15T17:06:17.080443",
     "status": "completed"
    },
    "tags": []
   },
   "outputs": [
    {
     "name": "stderr",
     "output_type": "stream",
     "text": [
      "/opt/conda/lib/python3.7/site-packages/seaborn/_decorators.py:43: FutureWarning: Pass the following variable as a keyword arg: x. From version 0.12, the only valid positional argument will be `data`, and passing other arguments without an explicit keyword will result in an error or misinterpretation.\n",
      "  FutureWarning\n",
      "/opt/conda/lib/python3.7/site-packages/seaborn/_decorators.py:43: FutureWarning: Pass the following variable as a keyword arg: x. From version 0.12, the only valid positional argument will be `data`, and passing other arguments without an explicit keyword will result in an error or misinterpretation.\n",
      "  FutureWarning\n"
     ]
    },
    {
     "data": {
      "text/plain": [
       "<AxesSubplot:xlabel='Parch', ylabel='count'>"
      ]
     },
     "execution_count": 29,
     "metadata": {},
     "output_type": "execute_result"
    },
    {
     "data": {
      "image/png": "[encoded data removed]",
      "text/plain": [
       "<Figure size 504x720 with 2 Axes>"
      ]
     },
     "metadata": {
      "needs_background": "light"
     },
     "output_type": "display_data"
    }
   ],
   "source": [
    "_,axes = plt.subplots(2,1,figsize=(7,10))\n",
    "\n",
    "sns.countplot(\"SibSp\",hue=\"Survived\",data=df,ax=axes[0])\n",
    "sns.countplot(\"Parch\",hue=\"Survived\",data=df,ax=axes[1])"
   ]
  },
  {
   "cell_type": "markdown",
   "id": "gothic-baking",
   "metadata": {
    "papermill": {
     "duration": 0.080636,
     "end_time": "2021-06-15T17:06:17.695723",
     "exception": false,
     "start_time": "2021-06-15T17:06:17.615087",
     "status": "completed"
    },
    "tags": []
   },
   "source": [
    "As the number of (sibling,spouse) and (child per parent increases),the survival rate decreases. Henceforth,lesser the number of family members, the merrier!"
   ]
  },
  {
   "cell_type": "markdown",
   "id": "innovative-midnight",
   "metadata": {
    "papermill": {
     "duration": 0.079889,
     "end_time": "2021-06-15T17:06:17.856372",
     "exception": false,
     "start_time": "2021-06-15T17:06:17.776483",
     "status": "completed"
    },
    "tags": []
   },
   "source": [
    "5. SURVIVAL VS EMBARKED"
   ]
  },
  {
   "cell_type": "markdown",
   "id": "diverse-doctrine",
   "metadata": {
    "papermill": {
     "duration": 0.08026,
     "end_time": "2021-06-15T17:06:18.017174",
     "exception": false,
     "start_time": "2021-06-15T17:06:17.936914",
     "status": "completed"
    },
    "tags": []
   },
   "source": [
    "'''\n",
    "C = Cherbourg, Q = Queenstown, S = Southampton\n",
    "'''"
   ]
  },
  {
   "cell_type": "code",
   "execution_count": 30,
   "id": "verified-legislation",
   "metadata": {
    "execution": {
     "iopub.execute_input": "2021-06-15T17:06:18.185786Z",
     "iopub.status.busy": "2021-06-15T17:06:18.185082Z",
     "iopub.status.idle": "2021-06-15T17:06:18.335781Z",
     "shell.execute_reply": "2021-06-15T17:06:18.335168Z",
     "shell.execute_reply.started": "2021-06-15T16:21:33.260413Z"
    },
    "papermill": {
     "duration": 0.238586,
     "end_time": "2021-06-15T17:06:18.335925",
     "exception": false,
     "start_time": "2021-06-15T17:06:18.097339",
     "status": "completed"
    },
    "tags": []
   },
   "outputs": [
    {
     "name": "stderr",
     "output_type": "stream",
     "text": [
      "/opt/conda/lib/python3.7/site-packages/seaborn/_decorators.py:43: FutureWarning: Pass the following variable as a keyword arg: x. From version 0.12, the only valid positional argument will be `data`, and passing other arguments without an explicit keyword will result in an error or misinterpretation.\n",
      "  FutureWarning\n"
     ]
    },
    {
     "data": {
      "text/plain": [
       "<AxesSubplot:xlabel='Embarked', ylabel='count'>"
      ]
     },
     "execution_count": 30,
     "metadata": {},
     "output_type": "execute_result"
    },
    {
     "data": {
      "image/png": "[encoded data removed]",
      "text/plain": [
       "<Figure size 432x288 with 1 Axes>"
      ]
     },
     "metadata": {
      "needs_background": "light"
     },
     "output_type": "display_data"
    }
   ],
   "source": [
    "sns.countplot(\"Embarked\",hue=\"Survived\",data =df)"
   ]
  },
  {
   "cell_type": "markdown",
   "id": "revolutionary-memory",
   "metadata": {
    "papermill": {
     "duration": 0.080755,
     "end_time": "2021-06-15T17:06:18.497795",
     "exception": false,
     "start_time": "2021-06-15T17:06:18.417040",
     "status": "completed"
    },
    "tags": []
   },
   "source": [
    "Clearly, the people from Southampton ended up surviving compared to the other ports"
   ]
  },
  {
   "cell_type": "code",
   "execution_count": 31,
   "id": "fluid-coating",
   "metadata": {
    "execution": {
     "iopub.execute_input": "2021-06-15T17:06:18.667467Z",
     "iopub.status.busy": "2021-06-15T17:06:18.666028Z",
     "iopub.status.idle": "2021-06-15T17:06:18.671472Z",
     "shell.execute_reply": "2021-06-15T17:06:18.670783Z",
     "shell.execute_reply.started": "2021-06-15T16:21:33.454024Z"
    },
    "papermill": {
     "duration": 0.091816,
     "end_time": "2021-06-15T17:06:18.671629",
     "exception": false,
     "start_time": "2021-06-15T17:06:18.579813",
     "status": "completed"
    },
    "tags": []
   },
   "outputs": [
    {
     "data": {
      "text/plain": [
       "25.523893414211443"
      ]
     },
     "execution_count": 31,
     "metadata": {},
     "output_type": "execute_result"
    }
   ],
   "source": [
    "# Mean of the fare men paid\n",
    "df[df[\"Sex\"]==1][\"Fare\"].mean()"
   ]
  },
  {
   "cell_type": "code",
   "execution_count": 32,
   "id": "spectacular-chapel",
   "metadata": {
    "execution": {
     "iopub.execute_input": "2021-06-15T17:06:18.845131Z",
     "iopub.status.busy": "2021-06-15T17:06:18.844483Z",
     "iopub.status.idle": "2021-06-15T17:06:18.847105Z",
     "shell.execute_reply": "2021-06-15T17:06:18.847596Z",
     "shell.execute_reply.started": "2021-06-15T16:21:33.464191Z"
    },
    "papermill": {
     "duration": 0.09396,
     "end_time": "2021-06-15T17:06:18.847752",
     "exception": false,
     "start_time": "2021-06-15T17:06:18.753792",
     "status": "completed"
    },
    "tags": []
   },
   "outputs": [
    {
     "data": {
      "text/plain": [
       "44.47981783439491"
      ]
     },
     "execution_count": 32,
     "metadata": {},
     "output_type": "execute_result"
    }
   ],
   "source": [
    "# Mean of fare women paid\n",
    "df[df[\"Sex\"]==0][\"Fare\"].mean()"
   ]
  },
  {
   "cell_type": "code",
   "execution_count": 33,
   "id": "right-first",
   "metadata": {
    "execution": {
     "iopub.execute_input": "2021-06-15T17:06:19.011556Z",
     "iopub.status.busy": "2021-06-15T17:06:19.010976Z",
     "iopub.status.idle": "2021-06-15T17:06:19.173010Z",
     "shell.execute_reply": "2021-06-15T17:06:19.173456Z",
     "shell.execute_reply.started": "2021-06-15T16:21:33.477433Z"
    },
    "papermill": {
     "duration": 0.24606,
     "end_time": "2021-06-15T17:06:19.173623",
     "exception": false,
     "start_time": "2021-06-15T17:06:18.927563",
     "status": "completed"
    },
    "tags": []
   },
   "outputs": [
    {
     "name": "stderr",
     "output_type": "stream",
     "text": [
      "/opt/conda/lib/python3.7/site-packages/seaborn/_decorators.py:43: FutureWarning: Pass the following variable as a keyword arg: x. From version 0.12, the only valid positional argument will be `data`, and passing other arguments without an explicit keyword will result in an error or misinterpretation.\n",
      "  FutureWarning\n"
     ]
    },
    {
     "data": {
      "text/plain": [
       "<AxesSubplot:xlabel='Embarked', ylabel='count'>"
      ]
     },
     "execution_count": 33,
     "metadata": {},
     "output_type": "execute_result"
    },
    {
     "data": {
      "image/png": "[encoded data removed]",
      "text/plain": [
       "<Figure size 432x288 with 1 Axes>"
      ]
     },
     "metadata": {
      "needs_background": "light"
     },
     "output_type": "display_data"
    }
   ],
   "source": [
    "# Count of people in different passenger class at different ports\n",
    "sns.countplot(\"Embarked\",hue=\"Pclass\",data=df)"
   ]
  },
  {
   "cell_type": "code",
   "execution_count": 34,
   "id": "failing-encyclopedia",
   "metadata": {
    "execution": {
     "iopub.execute_input": "2021-06-15T17:06:19.340709Z",
     "iopub.status.busy": "2021-06-15T17:06:19.340127Z",
     "iopub.status.idle": "2021-06-15T17:06:19.501789Z",
     "shell.execute_reply": "2021-06-15T17:06:19.501268Z",
     "shell.execute_reply.started": "2021-06-15T16:21:33.683191Z"
    },
    "papermill": {
     "duration": 0.246531,
     "end_time": "2021-06-15T17:06:19.501929",
     "exception": false,
     "start_time": "2021-06-15T17:06:19.255398",
     "status": "completed"
    },
    "tags": []
   },
   "outputs": [
    {
     "name": "stderr",
     "output_type": "stream",
     "text": [
      "/opt/conda/lib/python3.7/site-packages/seaborn/_decorators.py:43: FutureWarning: Pass the following variable as a keyword arg: x. From version 0.12, the only valid positional argument will be `data`, and passing other arguments without an explicit keyword will result in an error or misinterpretation.\n",
      "  FutureWarning\n"
     ]
    },
    {
     "data": {
      "text/plain": [
       "<AxesSubplot:xlabel='Pclass', ylabel='count'>"
      ]
     },
     "execution_count": 34,
     "metadata": {},
     "output_type": "execute_result"
    },
    {
     "data": {
      "image/png": "[encoded data removed]",
      "text/plain": [
       "<Figure size 432x288 with 1 Axes>"
      ]
     },
     "metadata": {
      "needs_background": "light"
     },
     "output_type": "display_data"
    }
   ],
   "source": [
    "# How many males/females were there in different Pclass\n",
    "sns.countplot(\"Pclass\",hue=\"Sex\",data =df)"
   ]
  },
  {
   "cell_type": "code",
   "execution_count": 35,
   "id": "functional-myrtle",
   "metadata": {
    "execution": {
     "iopub.execute_input": "2021-06-15T17:06:19.678783Z",
     "iopub.status.busy": "2021-06-15T17:06:19.678120Z",
     "iopub.status.idle": "2021-06-15T17:06:19.687459Z",
     "shell.execute_reply": "2021-06-15T17:06:19.687909Z",
     "shell.execute_reply.started": "2021-06-15T16:21:33.8654Z"
    },
    "papermill": {
     "duration": 0.100935,
     "end_time": "2021-06-15T17:06:19.688078",
     "exception": false,
     "start_time": "2021-06-15T17:06:19.587143",
     "status": "completed"
    },
    "tags": []
   },
   "outputs": [
    {
     "name": "stdout",
     "output_type": "stream",
     "text": [
      "Average Fare for entering Passenger Class 1 is 84.15\n",
      "Average Fare for entering Passenger Class 2 is 20.66\n",
      "Average Fare for entering Passenger Class 3 is 13.68\n"
     ]
    }
   ],
   "source": [
    "#Cost for each passenger class\n",
    "for i in range(1,4):\n",
    "    print(\"Average Fare for entering Passenger Class {}\".format(i),\"is {:.2f}\".format(df[df[\"Pclass\"]==i][\"Fare\"].mean()))"
   ]
  },
  {
   "cell_type": "code",
   "execution_count": 36,
   "id": "laughing-voltage",
   "metadata": {
    "execution": {
     "iopub.execute_input": "2021-06-15T17:06:19.881821Z",
     "iopub.status.busy": "2021-06-15T17:06:19.881050Z",
     "iopub.status.idle": "2021-06-15T17:06:19.898983Z",
     "shell.execute_reply": "2021-06-15T17:06:19.899864Z",
     "shell.execute_reply.started": "2021-06-15T16:21:33.876893Z"
    },
    "papermill": {
     "duration": 0.124541,
     "end_time": "2021-06-15T17:06:19.900180",
     "exception": false,
     "start_time": "2021-06-15T17:06:19.775639",
     "status": "completed"
    },
    "tags": []
   },
   "outputs": [
    {
     "name": "stdout",
     "output_type": "stream",
     "text": [
      "Average age in Passenger Class 1 is 37.05\n",
      "Average age in Passenger Class 2 is 29.87\n",
      "Average age in Passenger Class 3 is 26.40\n",
      "------------------------------------------------------\n",
      "Maximum age in Passenger Class 1 is 80.00\n",
      "Maximum age in Passenger Class 2 is 70.00\n",
      "Maximum age in Passenger Class 3 is 74.00\n"
     ]
    }
   ],
   "source": [
    "#Average age and max age of people in each passenger Class\n",
    "for i in range(1,4):\n",
    "    print(\"Average age in Passenger Class {}\".format(i),\"is {:.2f}\".format(df[df[\"Pclass\"]==i][\"Age\"].mean()))\n",
    "print(\"------------------------------------------------------\")\n",
    "for i in range(1,4):\n",
    "    print(\"Maximum age in Passenger Class {}\".format(i),\"is {:.2f}\".format(df[df[\"Pclass\"]==i][\"Age\"].max()))"
   ]
  },
  {
   "cell_type": "code",
   "execution_count": 37,
   "id": "unauthorized-jewel",
   "metadata": {
    "execution": {
     "iopub.execute_input": "2021-06-15T17:06:20.081828Z",
     "iopub.status.busy": "2021-06-15T17:06:20.081080Z",
     "iopub.status.idle": "2021-06-15T17:06:20.094236Z",
     "shell.execute_reply": "2021-06-15T17:06:20.094739Z",
     "shell.execute_reply.started": "2021-06-15T16:21:33.897608Z"
    },
    "papermill": {
     "duration": 0.102789,
     "end_time": "2021-06-15T17:06:20.094898",
     "exception": false,
     "start_time": "2021-06-15T17:06:19.992109",
     "status": "completed"
    },
    "tags": []
   },
   "outputs": [
    {
     "data": {
      "text/html": [
       "<div>\n",
       "<style scoped>\n",
       "    .dataframe tbody tr th:only-of-type {\n",
       "        vertical-align: middle;\n",
       "    }\n",
       "\n",
       "    .dataframe tbody tr th {\n",
       "        vertical-align: top;\n",
       "    }\n",
       "\n",
       "    .dataframe thead th {\n",
       "        text-align: right;\n",
       "    }\n",
       "</style>\n",
       "<table border=\"1\" class=\"dataframe\">\n",
       "  <thead>\n",
       "    <tr style=\"text-align: right;\">\n",
       "      <th></th>\n",
       "      <th>Pclass</th>\n",
       "      <th>Sex</th>\n",
       "      <th>Age</th>\n",
       "      <th>SibSp</th>\n",
       "      <th>Parch</th>\n",
       "      <th>Fare</th>\n",
       "    </tr>\n",
       "  </thead>\n",
       "  <tbody>\n",
       "    <tr>\n",
       "      <th>Pclass</th>\n",
       "      <td>1.000000</td>\n",
       "      <td>0.131900</td>\n",
       "      <td>-0.331339</td>\n",
       "      <td>0.083081</td>\n",
       "      <td>0.018443</td>\n",
       "      <td>-0.549500</td>\n",
       "    </tr>\n",
       "    <tr>\n",
       "      <th>Sex</th>\n",
       "      <td>0.131900</td>\n",
       "      <td>1.000000</td>\n",
       "      <td>0.084153</td>\n",
       "      <td>-0.114631</td>\n",
       "      <td>-0.245489</td>\n",
       "      <td>-0.182333</td>\n",
       "    </tr>\n",
       "    <tr>\n",
       "      <th>Age</th>\n",
       "      <td>-0.331339</td>\n",
       "      <td>0.084153</td>\n",
       "      <td>1.000000</td>\n",
       "      <td>-0.232625</td>\n",
       "      <td>-0.179191</td>\n",
       "      <td>0.091566</td>\n",
       "    </tr>\n",
       "    <tr>\n",
       "      <th>SibSp</th>\n",
       "      <td>0.083081</td>\n",
       "      <td>-0.114631</td>\n",
       "      <td>-0.232625</td>\n",
       "      <td>1.000000</td>\n",
       "      <td>0.414838</td>\n",
       "      <td>0.159651</td>\n",
       "    </tr>\n",
       "    <tr>\n",
       "      <th>Parch</th>\n",
       "      <td>0.018443</td>\n",
       "      <td>-0.245489</td>\n",
       "      <td>-0.179191</td>\n",
       "      <td>0.414838</td>\n",
       "      <td>1.000000</td>\n",
       "      <td>0.216225</td>\n",
       "    </tr>\n",
       "    <tr>\n",
       "      <th>Fare</th>\n",
       "      <td>-0.549500</td>\n",
       "      <td>-0.182333</td>\n",
       "      <td>0.091566</td>\n",
       "      <td>0.159651</td>\n",
       "      <td>0.216225</td>\n",
       "      <td>1.000000</td>\n",
       "    </tr>\n",
       "  </tbody>\n",
       "</table>\n",
       "</div>"
      ],
      "text/plain": [
       "          Pclass       Sex       Age     SibSp     Parch      Fare\n",
       "Pclass  1.000000  0.131900 -0.331339  0.083081  0.018443 -0.549500\n",
       "Sex     0.131900  1.000000  0.084153 -0.114631 -0.245489 -0.182333\n",
       "Age    -0.331339  0.084153  1.000000 -0.232625 -0.179191  0.091566\n",
       "SibSp   0.083081 -0.114631 -0.232625  1.000000  0.414838  0.159651\n",
       "Parch   0.018443 -0.245489 -0.179191  0.414838  1.000000  0.216225\n",
       "Fare   -0.549500 -0.182333  0.091566  0.159651  0.216225  1.000000"
      ]
     },
     "execution_count": 37,
     "metadata": {},
     "output_type": "execute_result"
    }
   ],
   "source": [
    "df.corr()"
   ]
  },
  {
   "cell_type": "code",
   "execution_count": 38,
   "id": "exposed-numbers",
   "metadata": {
    "execution": {
     "iopub.execute_input": "2021-06-15T17:06:20.269488Z",
     "iopub.status.busy": "2021-06-15T17:06:20.268865Z",
     "iopub.status.idle": "2021-06-15T17:06:20.283579Z",
     "shell.execute_reply": "2021-06-15T17:06:20.284024Z",
     "shell.execute_reply.started": "2021-06-15T16:21:33.918982Z"
    },
    "papermill": {
     "duration": 0.101645,
     "end_time": "2021-06-15T17:06:20.284179",
     "exception": false,
     "start_time": "2021-06-15T17:06:20.182534",
     "status": "completed"
    },
    "tags": []
   },
   "outputs": [
    {
     "data": {
      "text/html": [
       "<div>\n",
       "<style scoped>\n",
       "    .dataframe tbody tr th:only-of-type {\n",
       "        vertical-align: middle;\n",
       "    }\n",
       "\n",
       "    .dataframe tbody tr th {\n",
       "        vertical-align: top;\n",
       "    }\n",
       "\n",
       "    .dataframe thead th {\n",
       "        text-align: right;\n",
       "    }\n",
       "</style>\n",
       "<table border=\"1\" class=\"dataframe\">\n",
       "  <thead>\n",
       "    <tr style=\"text-align: right;\">\n",
       "      <th></th>\n",
       "      <th>Pclass</th>\n",
       "      <th>Sex</th>\n",
       "      <th>Age</th>\n",
       "      <th>SibSp</th>\n",
       "      <th>Parch</th>\n",
       "      <th>Fare</th>\n",
       "    </tr>\n",
       "  </thead>\n",
       "  <tbody>\n",
       "    <tr>\n",
       "      <th>Pclass</th>\n",
       "      <td>0.699015</td>\n",
       "      <td>0.052712</td>\n",
       "      <td>-3.601855</td>\n",
       "      <td>0.076599</td>\n",
       "      <td>0.012429</td>\n",
       "      <td>-22.830196</td>\n",
       "    </tr>\n",
       "    <tr>\n",
       "      <th>Sex</th>\n",
       "      <td>0.052712</td>\n",
       "      <td>0.228475</td>\n",
       "      <td>0.523000</td>\n",
       "      <td>-0.060422</td>\n",
       "      <td>-0.094584</td>\n",
       "      <td>-4.330946</td>\n",
       "    </tr>\n",
       "    <tr>\n",
       "      <th>Age</th>\n",
       "      <td>-3.601855</td>\n",
       "      <td>0.523000</td>\n",
       "      <td>169.052400</td>\n",
       "      <td>-3.335345</td>\n",
       "      <td>-1.877987</td>\n",
       "      <td>59.162200</td>\n",
       "    </tr>\n",
       "    <tr>\n",
       "      <th>SibSp</th>\n",
       "      <td>0.076599</td>\n",
       "      <td>-0.060422</td>\n",
       "      <td>-3.335345</td>\n",
       "      <td>1.216043</td>\n",
       "      <td>0.368739</td>\n",
       "      <td>8.748734</td>\n",
       "    </tr>\n",
       "    <tr>\n",
       "      <th>Parch</th>\n",
       "      <td>0.012429</td>\n",
       "      <td>-0.094584</td>\n",
       "      <td>-1.877987</td>\n",
       "      <td>0.368739</td>\n",
       "      <td>0.649728</td>\n",
       "      <td>8.661052</td>\n",
       "    </tr>\n",
       "    <tr>\n",
       "      <th>Fare</th>\n",
       "      <td>-22.830196</td>\n",
       "      <td>-4.330946</td>\n",
       "      <td>59.162200</td>\n",
       "      <td>8.748734</td>\n",
       "      <td>8.661052</td>\n",
       "      <td>2469.436846</td>\n",
       "    </tr>\n",
       "  </tbody>\n",
       "</table>\n",
       "</div>"
      ],
      "text/plain": [
       "           Pclass       Sex         Age     SibSp     Parch         Fare\n",
       "Pclass   0.699015  0.052712   -3.601855  0.076599  0.012429   -22.830196\n",
       "Sex      0.052712  0.228475    0.523000 -0.060422 -0.094584    -4.330946\n",
       "Age     -3.601855  0.523000  169.052400 -3.335345 -1.877987    59.162200\n",
       "SibSp    0.076599 -0.060422   -3.335345  1.216043  0.368739     8.748734\n",
       "Parch    0.012429 -0.094584   -1.877987  0.368739  0.649728     8.661052\n",
       "Fare   -22.830196 -4.330946   59.162200  8.748734  8.661052  2469.436846"
      ]
     },
     "execution_count": 38,
     "metadata": {},
     "output_type": "execute_result"
    }
   ],
   "source": [
    "df.cov()"
   ]
  },
  {
   "cell_type": "code",
   "execution_count": 39,
   "id": "domestic-cheat",
   "metadata": {
    "execution": {
     "iopub.execute_input": "2021-06-15T17:06:20.459793Z",
     "iopub.status.busy": "2021-06-15T17:06:20.459181Z",
     "iopub.status.idle": "2021-06-15T17:06:20.779567Z",
     "shell.execute_reply": "2021-06-15T17:06:20.780033Z",
     "shell.execute_reply.started": "2021-06-15T16:21:33.936104Z"
    },
    "papermill": {
     "duration": 0.410123,
     "end_time": "2021-06-15T17:06:20.780190",
     "exception": false,
     "start_time": "2021-06-15T17:06:20.370067",
     "status": "completed"
    },
    "tags": []
   },
   "outputs": [
    {
     "data": {
      "text/plain": [
       "<AxesSubplot:>"
      ]
     },
     "execution_count": 39,
     "metadata": {},
     "output_type": "execute_result"
    },
    {
     "data": {
      "image/png": "[encoded data removed]",
      "text/plain": [
       "<Figure size 432x288 with 2 Axes>"
      ]
     },
     "metadata": {
      "needs_background": "light"
     },
     "output_type": "display_data"
    }
   ],
   "source": [
    "numerical = list(set(df.columns)\n",
    "                 -{\"Sex\",\n",
    "                   \"Embarked\",\n",
    "                   \"Survival\"})\n",
    "sns.heatmap(data=df[numerical].corr(),annot=True,fmt=\".2f\",vmin=-1,vmax=1)"
   ]
  },
  {
   "cell_type": "markdown",
   "id": "studied-cabinet",
   "metadata": {
    "papermill": {
     "duration": 0.086736,
     "end_time": "2021-06-15T17:06:20.956137",
     "exception": false,
     "start_time": "2021-06-15T17:06:20.869401",
     "status": "completed"
    },
    "tags": []
   },
   "source": [
    "None of the features are highly correlated, so safe to say, we can continue ahead"
   ]
  },
  {
   "cell_type": "code",
   "execution_count": 40,
   "id": "powered-logic",
   "metadata": {
    "execution": {
     "iopub.execute_input": "2021-06-15T17:06:21.135573Z",
     "iopub.status.busy": "2021-06-15T17:06:21.134959Z",
     "iopub.status.idle": "2021-06-15T17:06:21.141204Z",
     "shell.execute_reply": "2021-06-15T17:06:21.141733Z",
     "shell.execute_reply.started": "2021-06-15T16:21:34.258899Z"
    },
    "papermill": {
     "duration": 0.097441,
     "end_time": "2021-06-15T17:06:21.141896",
     "exception": false,
     "start_time": "2021-06-15T17:06:21.044455",
     "status": "completed"
    },
    "tags": []
   },
   "outputs": [],
   "source": [
    "df[\"Survived\"] = df[\"Survived\"].map({\"No\":0 ,\"Yes\":1})\n",
    "df = df.drop([\"Embarked\"],axis=1)"
   ]
  },
  {
   "cell_type": "code",
   "execution_count": 41,
   "id": "killing-timing",
   "metadata": {
    "execution": {
     "iopub.execute_input": "2021-06-15T17:06:21.320509Z",
     "iopub.status.busy": "2021-06-15T17:06:21.319923Z",
     "iopub.status.idle": "2021-06-15T17:06:21.324717Z",
     "shell.execute_reply": "2021-06-15T17:06:21.325130Z",
     "shell.execute_reply.started": "2021-06-15T16:21:34.269345Z"
    },
    "papermill": {
     "duration": 0.095516,
     "end_time": "2021-06-15T17:06:21.325283",
     "exception": false,
     "start_time": "2021-06-15T17:06:21.229767",
     "status": "completed"
    },
    "tags": []
   },
   "outputs": [],
   "source": [
    "X = df.iloc[:,1:].values\n",
    "y = df.iloc[:,0].values"
   ]
  },
  {
   "cell_type": "code",
   "execution_count": 42,
   "id": "alternate-relation",
   "metadata": {
    "execution": {
     "iopub.execute_input": "2021-06-15T17:06:21.504425Z",
     "iopub.status.busy": "2021-06-15T17:06:21.503859Z",
     "iopub.status.idle": "2021-06-15T17:06:21.520270Z",
     "shell.execute_reply": "2021-06-15T17:06:21.519808Z",
     "shell.execute_reply.started": "2021-06-15T16:21:34.284766Z"
    },
    "papermill": {
     "duration": 0.10667,
     "end_time": "2021-06-15T17:06:21.520397",
     "exception": false,
     "start_time": "2021-06-15T17:06:21.413727",
     "status": "completed"
    },
    "tags": []
   },
   "outputs": [
    {
     "data": {
      "text/html": [
       "<div>\n",
       "<style scoped>\n",
       "    .dataframe tbody tr th:only-of-type {\n",
       "        vertical-align: middle;\n",
       "    }\n",
       "\n",
       "    .dataframe tbody tr th {\n",
       "        vertical-align: top;\n",
       "    }\n",
       "\n",
       "    .dataframe thead th {\n",
       "        text-align: right;\n",
       "    }\n",
       "</style>\n",
       "<table border=\"1\" class=\"dataframe\">\n",
       "  <thead>\n",
       "    <tr style=\"text-align: right;\">\n",
       "      <th></th>\n",
       "      <th>Survived</th>\n",
       "      <th>Pclass</th>\n",
       "      <th>Sex</th>\n",
       "      <th>Age</th>\n",
       "      <th>SibSp</th>\n",
       "      <th>Parch</th>\n",
       "      <th>Fare</th>\n",
       "    </tr>\n",
       "  </thead>\n",
       "  <tbody>\n",
       "    <tr>\n",
       "      <th>0</th>\n",
       "      <td>0</td>\n",
       "      <td>3</td>\n",
       "      <td>1</td>\n",
       "      <td>22.000000</td>\n",
       "      <td>1</td>\n",
       "      <td>0</td>\n",
       "      <td>7.2500</td>\n",
       "    </tr>\n",
       "    <tr>\n",
       "      <th>1</th>\n",
       "      <td>1</td>\n",
       "      <td>1</td>\n",
       "      <td>0</td>\n",
       "      <td>38.000000</td>\n",
       "      <td>1</td>\n",
       "      <td>0</td>\n",
       "      <td>71.2833</td>\n",
       "    </tr>\n",
       "    <tr>\n",
       "      <th>2</th>\n",
       "      <td>1</td>\n",
       "      <td>3</td>\n",
       "      <td>0</td>\n",
       "      <td>26.000000</td>\n",
       "      <td>0</td>\n",
       "      <td>0</td>\n",
       "      <td>7.9250</td>\n",
       "    </tr>\n",
       "    <tr>\n",
       "      <th>3</th>\n",
       "      <td>1</td>\n",
       "      <td>1</td>\n",
       "      <td>0</td>\n",
       "      <td>35.000000</td>\n",
       "      <td>1</td>\n",
       "      <td>0</td>\n",
       "      <td>53.1000</td>\n",
       "    </tr>\n",
       "    <tr>\n",
       "      <th>4</th>\n",
       "      <td>0</td>\n",
       "      <td>3</td>\n",
       "      <td>1</td>\n",
       "      <td>35.000000</td>\n",
       "      <td>0</td>\n",
       "      <td>0</td>\n",
       "      <td>8.0500</td>\n",
       "    </tr>\n",
       "    <tr>\n",
       "      <th>...</th>\n",
       "      <td>...</td>\n",
       "      <td>...</td>\n",
       "      <td>...</td>\n",
       "      <td>...</td>\n",
       "      <td>...</td>\n",
       "      <td>...</td>\n",
       "      <td>...</td>\n",
       "    </tr>\n",
       "    <tr>\n",
       "      <th>886</th>\n",
       "      <td>0</td>\n",
       "      <td>2</td>\n",
       "      <td>1</td>\n",
       "      <td>27.000000</td>\n",
       "      <td>0</td>\n",
       "      <td>0</td>\n",
       "      <td>13.0000</td>\n",
       "    </tr>\n",
       "    <tr>\n",
       "      <th>887</th>\n",
       "      <td>1</td>\n",
       "      <td>1</td>\n",
       "      <td>0</td>\n",
       "      <td>19.000000</td>\n",
       "      <td>0</td>\n",
       "      <td>0</td>\n",
       "      <td>30.0000</td>\n",
       "    </tr>\n",
       "    <tr>\n",
       "      <th>888</th>\n",
       "      <td>0</td>\n",
       "      <td>3</td>\n",
       "      <td>0</td>\n",
       "      <td>29.699118</td>\n",
       "      <td>1</td>\n",
       "      <td>2</td>\n",
       "      <td>23.4500</td>\n",
       "    </tr>\n",
       "    <tr>\n",
       "      <th>889</th>\n",
       "      <td>1</td>\n",
       "      <td>1</td>\n",
       "      <td>1</td>\n",
       "      <td>26.000000</td>\n",
       "      <td>0</td>\n",
       "      <td>0</td>\n",
       "      <td>30.0000</td>\n",
       "    </tr>\n",
       "    <tr>\n",
       "      <th>890</th>\n",
       "      <td>0</td>\n",
       "      <td>3</td>\n",
       "      <td>1</td>\n",
       "      <td>32.000000</td>\n",
       "      <td>0</td>\n",
       "      <td>0</td>\n",
       "      <td>7.7500</td>\n",
       "    </tr>\n",
       "  </tbody>\n",
       "</table>\n",
       "<p>891 rows × 7 columns</p>\n",
       "</div>"
      ],
      "text/plain": [
       "     Survived  Pclass  Sex        Age  SibSp  Parch     Fare\n",
       "0           0       3    1  22.000000      1      0   7.2500\n",
       "1           1       1    0  38.000000      1      0  71.2833\n",
       "2           1       3    0  26.000000      0      0   7.9250\n",
       "3           1       1    0  35.000000      1      0  53.1000\n",
       "4           0       3    1  35.000000      0      0   8.0500\n",
       "..        ...     ...  ...        ...    ...    ...      ...\n",
       "886         0       2    1  27.000000      0      0  13.0000\n",
       "887         1       1    0  19.000000      0      0  30.0000\n",
       "888         0       3    0  29.699118      1      2  23.4500\n",
       "889         1       1    1  26.000000      0      0  30.0000\n",
       "890         0       3    1  32.000000      0      0   7.7500\n",
       "\n",
       "[891 rows x 7 columns]"
      ]
     },
     "execution_count": 42,
     "metadata": {},
     "output_type": "execute_result"
    }
   ],
   "source": [
    "df"
   ]
  },
  {
   "cell_type": "code",
   "execution_count": 43,
   "id": "coordinated-dayton",
   "metadata": {
    "execution": {
     "iopub.execute_input": "2021-06-15T17:06:21.701958Z",
     "iopub.status.busy": "2021-06-15T17:06:21.701186Z",
     "iopub.status.idle": "2021-06-15T17:06:22.005790Z",
     "shell.execute_reply": "2021-06-15T17:06:22.005122Z",
     "shell.execute_reply.started": "2021-06-15T16:21:34.314059Z"
    },
    "papermill": {
     "duration": 0.397339,
     "end_time": "2021-06-15T17:06:22.005936",
     "exception": false,
     "start_time": "2021-06-15T17:06:21.608597",
     "status": "completed"
    },
    "tags": []
   },
   "outputs": [],
   "source": [
    "from sklearn.model_selection import train_test_split\n",
    "X_train,X_test,y_train,y_test = train_test_split(X,y,test_size=0.2)"
   ]
  },
  {
   "cell_type": "code",
   "execution_count": 44,
   "id": "communist-decision",
   "metadata": {
    "execution": {
     "iopub.execute_input": "2021-06-15T17:06:22.187730Z",
     "iopub.status.busy": "2021-06-15T17:06:22.186888Z",
     "iopub.status.idle": "2021-06-15T17:06:22.190779Z",
     "shell.execute_reply": "2021-06-15T17:06:22.190196Z",
     "shell.execute_reply.started": "2021-06-15T16:21:34.394204Z"
    },
    "papermill": {
     "duration": 0.096605,
     "end_time": "2021-06-15T17:06:22.190917",
     "exception": false,
     "start_time": "2021-06-15T17:06:22.094312",
     "status": "completed"
    },
    "tags": []
   },
   "outputs": [],
   "source": [
    "from sklearn.preprocessing import StandardScaler\n",
    "sc = StandardScaler()\n",
    "X_train = sc.fit_transform(X_train)\n",
    "X_test = sc.transform(X_test)"
   ]
  },
  {
   "cell_type": "markdown",
   "id": "numerous-frame",
   "metadata": {
    "papermill": {
     "duration": 0.089595,
     "end_time": "2021-06-15T17:06:22.369875",
     "exception": false,
     "start_time": "2021-06-15T17:06:22.280280",
     "status": "completed"
    },
    "tags": []
   },
   "source": [
    "# Using Logistic Regression"
   ]
  },
  {
   "cell_type": "code",
   "execution_count": 45,
   "id": "tutorial-repository",
   "metadata": {
    "execution": {
     "iopub.execute_input": "2021-06-15T17:06:22.553529Z",
     "iopub.status.busy": "2021-06-15T17:06:22.552887Z",
     "iopub.status.idle": "2021-06-15T17:06:22.650825Z",
     "shell.execute_reply": "2021-06-15T17:06:22.650271Z",
     "shell.execute_reply.started": "2021-06-15T16:21:34.405348Z"
    },
    "papermill": {
     "duration": 0.190924,
     "end_time": "2021-06-15T17:06:22.650962",
     "exception": false,
     "start_time": "2021-06-15T17:06:22.460038",
     "status": "completed"
    },
    "tags": []
   },
   "outputs": [
    {
     "data": {
      "text/plain": [
       "LogisticRegression(random_state=0)"
      ]
     },
     "execution_count": 45,
     "metadata": {},
     "output_type": "execute_result"
    }
   ],
   "source": [
    "from sklearn.linear_model import LogisticRegression\n",
    "classifier = LogisticRegression(random_state = 0)\n",
    "classifier.fit(X_train, y_train)"
   ]
  },
  {
   "cell_type": "code",
   "execution_count": 46,
   "id": "reliable-estonia",
   "metadata": {
    "execution": {
     "iopub.execute_input": "2021-06-15T17:06:22.835272Z",
     "iopub.status.busy": "2021-06-15T17:06:22.834674Z",
     "iopub.status.idle": "2021-06-15T17:06:22.837874Z",
     "shell.execute_reply": "2021-06-15T17:06:22.837274Z",
     "shell.execute_reply.started": "2021-06-15T16:21:34.543702Z"
    },
    "papermill": {
     "duration": 0.098101,
     "end_time": "2021-06-15T17:06:22.838026",
     "exception": false,
     "start_time": "2021-06-15T17:06:22.739925",
     "status": "completed"
    },
    "tags": []
   },
   "outputs": [],
   "source": [
    "y_pred = classifier.predict(X_test)"
   ]
  },
  {
   "cell_type": "code",
   "execution_count": 47,
   "id": "immune-criterion",
   "metadata": {
    "execution": {
     "iopub.execute_input": "2021-06-15T17:06:23.021312Z",
     "iopub.status.busy": "2021-06-15T17:06:23.019950Z",
     "iopub.status.idle": "2021-06-15T17:06:23.027132Z",
     "shell.execute_reply": "2021-06-15T17:06:23.026029Z",
     "shell.execute_reply.started": "2021-06-15T16:23:12.277014Z"
    },
    "papermill": {
     "duration": 0.101685,
     "end_time": "2021-06-15T17:06:23.027376",
     "exception": false,
     "start_time": "2021-06-15T17:06:22.925691",
     "status": "completed"
    },
    "tags": []
   },
   "outputs": [
    {
     "name": "stdout",
     "output_type": "stream",
     "text": [
      "[[95 16]\n",
      " [24 44]]\n",
      "77.6536312849162\n"
     ]
    }
   ],
   "source": [
    "from sklearn.metrics import accuracy_score,confusion_matrix\n",
    "cm = confusion_matrix(y_test,y_pred)\n",
    "print(cm)\n",
    "print(accuracy_score(y_test,y_pred)*100)"
   ]
  },
  {
   "cell_type": "markdown",
   "id": "angry-merit",
   "metadata": {
    "papermill": {
     "duration": 0.089314,
     "end_time": "2021-06-15T17:06:23.207028",
     "exception": false,
     "start_time": "2021-06-15T17:06:23.117714",
     "status": "completed"
    },
    "tags": []
   },
   "source": [
    "# Using KNN"
   ]
  },
  {
   "cell_type": "code",
   "execution_count": 48,
   "id": "caring-strip",
   "metadata": {
    "execution": {
     "iopub.execute_input": "2021-06-15T17:06:23.390540Z",
     "iopub.status.busy": "2021-06-15T17:06:23.389890Z",
     "iopub.status.idle": "2021-06-15T17:06:23.461904Z",
     "shell.execute_reply": "2021-06-15T17:06:23.461341Z",
     "shell.execute_reply.started": "2021-06-15T16:24:48.286139Z"
    },
    "papermill": {
     "duration": 0.166151,
     "end_time": "2021-06-15T17:06:23.462039",
     "exception": false,
     "start_time": "2021-06-15T17:06:23.295888",
     "status": "completed"
    },
    "tags": []
   },
   "outputs": [
    {
     "data": {
      "text/plain": [
       "KNeighborsClassifier()"
      ]
     },
     "execution_count": 48,
     "metadata": {},
     "output_type": "execute_result"
    }
   ],
   "source": [
    "from sklearn.neighbors import KNeighborsClassifier\n",
    "classifier_knn = KNeighborsClassifier(n_neighbors = 5, metric = 'minkowski', p = 2)\n",
    "classifier_knn.fit(X_train, y_train)"
   ]
  },
  {
   "cell_type": "code",
   "execution_count": 49,
   "id": "domestic-address",
   "metadata": {
    "execution": {
     "iopub.execute_input": "2021-06-15T17:06:23.644897Z",
     "iopub.status.busy": "2021-06-15T17:06:23.644266Z",
     "iopub.status.idle": "2021-06-15T17:06:23.654621Z",
     "shell.execute_reply": "2021-06-15T17:06:23.655076Z",
     "shell.execute_reply.started": "2021-06-15T16:24:51.222848Z"
    },
    "papermill": {
     "duration": 0.104323,
     "end_time": "2021-06-15T17:06:23.655245",
     "exception": false,
     "start_time": "2021-06-15T17:06:23.550922",
     "status": "completed"
    },
    "tags": []
   },
   "outputs": [],
   "source": [
    "y_pred_knn = classifier_knn.predict(X_test)"
   ]
  },
  {
   "cell_type": "code",
   "execution_count": 50,
   "id": "worst-expansion",
   "metadata": {
    "execution": {
     "iopub.execute_input": "2021-06-15T17:06:23.837303Z",
     "iopub.status.busy": "2021-06-15T17:06:23.836766Z",
     "iopub.status.idle": "2021-06-15T17:06:23.843565Z",
     "shell.execute_reply": "2021-06-15T17:06:23.842802Z",
     "shell.execute_reply.started": "2021-06-15T16:24:53.570807Z"
    },
    "papermill": {
     "duration": 0.100006,
     "end_time": "2021-06-15T17:06:23.843689",
     "exception": false,
     "start_time": "2021-06-15T17:06:23.743683",
     "status": "completed"
    },
    "tags": []
   },
   "outputs": [
    {
     "name": "stdout",
     "output_type": "stream",
     "text": [
      "[[99 12]\n",
      " [18 50]]\n",
      "83.24022346368714\n"
     ]
    }
   ],
   "source": [
    "from sklearn.metrics import accuracy_score,confusion_matrix\n",
    "cm = confusion_matrix(y_test,y_pred_knn)\n",
    "print(cm)\n",
    "print(accuracy_score(y_test,y_pred_knn)*100)"
   ]
  },
  {
   "cell_type": "markdown",
   "id": "crazy-destination",
   "metadata": {
    "papermill": {
     "duration": 0.090064,
     "end_time": "2021-06-15T17:06:24.022612",
     "exception": false,
     "start_time": "2021-06-15T17:06:23.932548",
     "status": "completed"
    },
    "tags": []
   },
   "source": [
    "# Using SVM"
   ]
  },
  {
   "cell_type": "code",
   "execution_count": 51,
   "id": "handled-fellow",
   "metadata": {
    "execution": {
     "iopub.execute_input": "2021-06-15T17:06:24.207049Z",
     "iopub.status.busy": "2021-06-15T17:06:24.206406Z",
     "iopub.status.idle": "2021-06-15T17:06:24.222951Z",
     "shell.execute_reply": "2021-06-15T17:06:24.222343Z",
     "shell.execute_reply.started": "2021-06-15T16:27:03.280051Z"
    },
    "papermill": {
     "duration": 0.111288,
     "end_time": "2021-06-15T17:06:24.223081",
     "exception": false,
     "start_time": "2021-06-15T17:06:24.111793",
     "status": "completed"
    },
    "tags": []
   },
   "outputs": [
    {
     "data": {
      "text/plain": [
       "SVC(kernel='linear', random_state=0)"
      ]
     },
     "execution_count": 51,
     "metadata": {},
     "output_type": "execute_result"
    }
   ],
   "source": [
    "from sklearn.svm import SVC\n",
    "classifier_svm = SVC(kernel = 'linear', random_state = 0)\n",
    "classifier_svm.fit(X_train, y_train)"
   ]
  },
  {
   "cell_type": "code",
   "execution_count": 52,
   "id": "artificial-insulin",
   "metadata": {
    "execution": {
     "iopub.execute_input": "2021-06-15T17:06:24.407465Z",
     "iopub.status.busy": "2021-06-15T17:06:24.406791Z",
     "iopub.status.idle": "2021-06-15T17:06:24.409999Z",
     "shell.execute_reply": "2021-06-15T17:06:24.409521Z",
     "shell.execute_reply.started": "2021-06-15T16:27:05.07194Z"
    },
    "papermill": {
     "duration": 0.097593,
     "end_time": "2021-06-15T17:06:24.410150",
     "exception": false,
     "start_time": "2021-06-15T17:06:24.312557",
     "status": "completed"
    },
    "tags": []
   },
   "outputs": [],
   "source": [
    "y_pred_svm = classifier_svm.predict(X_test)"
   ]
  },
  {
   "cell_type": "code",
   "execution_count": 53,
   "id": "viral-cambodia",
   "metadata": {
    "execution": {
     "iopub.execute_input": "2021-06-15T17:06:24.596042Z",
     "iopub.status.busy": "2021-06-15T17:06:24.594890Z",
     "iopub.status.idle": "2021-06-15T17:06:24.600972Z",
     "shell.execute_reply": "2021-06-15T17:06:24.600379Z",
     "shell.execute_reply.started": "2021-06-15T16:27:06.793398Z"
    },
    "papermill": {
     "duration": 0.100866,
     "end_time": "2021-06-15T17:06:24.601102",
     "exception": false,
     "start_time": "2021-06-15T17:06:24.500236",
     "status": "completed"
    },
    "tags": []
   },
   "outputs": [
    {
     "name": "stdout",
     "output_type": "stream",
     "text": [
      "[[97 14]\n",
      " [21 47]]\n",
      "80.44692737430168\n"
     ]
    }
   ],
   "source": [
    "from sklearn.metrics import accuracy_score,confusion_matrix\n",
    "cm = confusion_matrix(y_test,y_pred_svm)\n",
    "print(cm)\n",
    "print(accuracy_score(y_test,y_pred_svm)*100)"
   ]
  },
  {
   "cell_type": "markdown",
   "id": "tight-ranking",
   "metadata": {
    "papermill": {
     "duration": 0.089605,
     "end_time": "2021-06-15T17:06:24.780867",
     "exception": false,
     "start_time": "2021-06-15T17:06:24.691262",
     "status": "completed"
    },
    "tags": []
   },
   "source": [
    "# Using Decision Tree "
   ]
  },
  {
   "cell_type": "code",
   "execution_count": 54,
   "id": "patient-progress",
   "metadata": {
    "execution": {
     "iopub.execute_input": "2021-06-15T17:06:24.967709Z",
     "iopub.status.busy": "2021-06-15T17:06:24.967019Z",
     "iopub.status.idle": "2021-06-15T17:06:25.008248Z",
     "shell.execute_reply": "2021-06-15T17:06:25.007624Z",
     "shell.execute_reply.started": "2021-06-15T16:32:17.345356Z"
    },
    "papermill": {
     "duration": 0.137426,
     "end_time": "2021-06-15T17:06:25.008387",
     "exception": false,
     "start_time": "2021-06-15T17:06:24.870961",
     "status": "completed"
    },
    "tags": []
   },
   "outputs": [
    {
     "data": {
      "text/plain": [
       "DecisionTreeClassifier(criterion='entropy', random_state=0)"
      ]
     },
     "execution_count": 54,
     "metadata": {},
     "output_type": "execute_result"
    }
   ],
   "source": [
    "from sklearn.tree import DecisionTreeClassifier\n",
    "classifier_dt = DecisionTreeClassifier(criterion = 'entropy', random_state = 0)\n",
    "classifier_dt.fit(X_train, y_train)"
   ]
  },
  {
   "cell_type": "code",
   "execution_count": 55,
   "id": "intimate-blues",
   "metadata": {
    "execution": {
     "iopub.execute_input": "2021-06-15T17:06:25.197545Z",
     "iopub.status.busy": "2021-06-15T17:06:25.196544Z",
     "iopub.status.idle": "2021-06-15T17:06:25.199359Z",
     "shell.execute_reply": "2021-06-15T17:06:25.198892Z",
     "shell.execute_reply.started": "2021-06-15T16:32:19.200894Z"
    },
    "papermill": {
     "duration": 0.09967,
     "end_time": "2021-06-15T17:06:25.199528",
     "exception": false,
     "start_time": "2021-06-15T17:06:25.099858",
     "status": "completed"
    },
    "tags": []
   },
   "outputs": [],
   "source": [
    "y_pred_dt = classifier_dt.predict(X_test)"
   ]
  },
  {
   "cell_type": "code",
   "execution_count": 56,
   "id": "miniature-faculty",
   "metadata": {
    "execution": {
     "iopub.execute_input": "2021-06-15T17:06:25.433648Z",
     "iopub.status.busy": "2021-06-15T17:06:25.432641Z",
     "iopub.status.idle": "2021-06-15T17:06:25.439245Z",
     "shell.execute_reply": "2021-06-15T17:06:25.438534Z",
     "shell.execute_reply.started": "2021-06-15T16:32:20.87843Z"
    },
    "papermill": {
     "duration": 0.103231,
     "end_time": "2021-06-15T17:06:25.439445",
     "exception": false,
     "start_time": "2021-06-15T17:06:25.336214",
     "status": "completed"
    },
    "tags": []
   },
   "outputs": [
    {
     "name": "stdout",
     "output_type": "stream",
     "text": [
      "[[92 19]\n",
      " [21 47]]\n",
      "77.6536312849162\n"
     ]
    }
   ],
   "source": [
    "from sklearn.metrics import accuracy_score,confusion_matrix\n",
    "cm = confusion_matrix(y_test,y_pred_dt)\n",
    "print(cm)\n",
    "print(accuracy_score(y_test,y_pred_dt)*100)"
   ]
  },
  {
   "cell_type": "markdown",
   "id": "altered-murder",
   "metadata": {
    "papermill": {
     "duration": 0.09289,
     "end_time": "2021-06-15T17:06:25.624919",
     "exception": false,
     "start_time": "2021-06-15T17:06:25.532029",
     "status": "completed"
    },
    "tags": []
   },
   "source": [
    "# Using Random Forest Classifier"
   ]
  },
  {
   "cell_type": "code",
   "execution_count": 57,
   "id": "sacred-blocking",
   "metadata": {
    "execution": {
     "iopub.execute_input": "2021-06-15T17:06:25.815032Z",
     "iopub.status.busy": "2021-06-15T17:06:25.814117Z",
     "iopub.status.idle": "2021-06-15T17:06:25.867652Z",
     "shell.execute_reply": "2021-06-15T17:06:25.868125Z",
     "shell.execute_reply.started": "2021-06-15T16:36:23.024847Z"
    },
    "papermill": {
     "duration": 0.152213,
     "end_time": "2021-06-15T17:06:25.868292",
     "exception": false,
     "start_time": "2021-06-15T17:06:25.716079",
     "status": "completed"
    },
    "tags": []
   },
   "outputs": [
    {
     "data": {
      "text/plain": [
       "RandomForestClassifier(criterion='entropy', n_estimators=10, random_state=0)"
      ]
     },
     "execution_count": 57,
     "metadata": {},
     "output_type": "execute_result"
    }
   ],
   "source": [
    "from sklearn.ensemble import RandomForestClassifier\n",
    "classifier_rfc = RandomForestClassifier(n_estimators = 10, criterion = 'entropy', random_state = 0)\n",
    "classifier_rfc.fit(X_train, y_train)"
   ]
  },
  {
   "cell_type": "code",
   "execution_count": 58,
   "id": "durable-loading",
   "metadata": {
    "execution": {
     "iopub.execute_input": "2021-06-15T17:06:26.059132Z",
     "iopub.status.busy": "2021-06-15T17:06:26.058068Z",
     "iopub.status.idle": "2021-06-15T17:06:26.062717Z",
     "shell.execute_reply": "2021-06-15T17:06:26.063156Z",
     "shell.execute_reply.started": "2021-06-15T16:36:26.694029Z"
    },
    "papermill": {
     "duration": 0.103925,
     "end_time": "2021-06-15T17:06:26.063326",
     "exception": false,
     "start_time": "2021-06-15T17:06:25.959401",
     "status": "completed"
    },
    "tags": []
   },
   "outputs": [],
   "source": [
    "y_pred_rfc = classifier_rfc.predict(X_test)"
   ]
  },
  {
   "cell_type": "code",
   "execution_count": 59,
   "id": "elegant-contents",
   "metadata": {
    "execution": {
     "iopub.execute_input": "2021-06-15T17:06:26.254725Z",
     "iopub.status.busy": "2021-06-15T17:06:26.253670Z",
     "iopub.status.idle": "2021-06-15T17:06:26.258297Z",
     "shell.execute_reply": "2021-06-15T17:06:26.257401Z",
     "shell.execute_reply.started": "2021-06-15T16:37:09.193632Z"
    },
    "papermill": {
     "duration": 0.102504,
     "end_time": "2021-06-15T17:06:26.258508",
     "exception": false,
     "start_time": "2021-06-15T17:06:26.156004",
     "status": "completed"
    },
    "tags": []
   },
   "outputs": [
    {
     "name": "stdout",
     "output_type": "stream",
     "text": [
      "[[105   6]\n",
      " [ 26  42]]\n",
      "82.12290502793296\n"
     ]
    }
   ],
   "source": [
    "from sklearn.metrics import confusion_matrix,accuracy_score\n",
    "cm = confusion_matrix(y_test,y_pred_rfc)\n",
    "print(cm)\n",
    "print(accuracy_score(y_test,y_pred_rfc)*100)"
   ]
  },
  {
   "cell_type": "markdown",
   "id": "adult-sessions",
   "metadata": {
    "papermill": {
     "duration": 0.091772,
     "end_time": "2021-06-15T17:06:26.443020",
     "exception": false,
     "start_time": "2021-06-15T17:06:26.351248",
     "status": "completed"
    },
    "tags": []
   },
   "source": [
    "# Submitting the predictions "
   ]
  },
  {
   "cell_type": "code",
   "execution_count": 60,
   "id": "dense-affiliate",
   "metadata": {
    "execution": {
     "iopub.execute_input": "2021-06-15T17:06:26.637057Z",
     "iopub.status.busy": "2021-06-15T17:06:26.636338Z",
     "iopub.status.idle": "2021-06-15T17:06:26.659472Z",
     "shell.execute_reply": "2021-06-15T17:06:26.658981Z",
     "shell.execute_reply.started": "2021-06-15T16:40:12.424946Z"
    },
    "papermill": {
     "duration": 0.120775,
     "end_time": "2021-06-15T17:06:26.659606",
     "exception": false,
     "start_time": "2021-06-15T17:06:26.538831",
     "status": "completed"
    },
    "tags": []
   },
   "outputs": [
    {
     "data": {
      "text/html": [
       "<div>\n",
       "<style scoped>\n",
       "    .dataframe tbody tr th:only-of-type {\n",
       "        vertical-align: middle;\n",
       "    }\n",
       "\n",
       "    .dataframe tbody tr th {\n",
       "        vertical-align: top;\n",
       "    }\n",
       "\n",
       "    .dataframe thead th {\n",
       "        text-align: right;\n",
       "    }\n",
       "</style>\n",
       "<table border=\"1\" class=\"dataframe\">\n",
       "  <thead>\n",
       "    <tr style=\"text-align: right;\">\n",
       "      <th></th>\n",
       "      <th>PassengerId</th>\n",
       "      <th>Pclass</th>\n",
       "      <th>Name</th>\n",
       "      <th>Sex</th>\n",
       "      <th>Age</th>\n",
       "      <th>SibSp</th>\n",
       "      <th>Parch</th>\n",
       "      <th>Ticket</th>\n",
       "      <th>Fare</th>\n",
       "      <th>Cabin</th>\n",
       "      <th>Embarked</th>\n",
       "    </tr>\n",
       "  </thead>\n",
       "  <tbody>\n",
       "    <tr>\n",
       "      <th>0</th>\n",
       "      <td>892</td>\n",
       "      <td>3</td>\n",
       "      <td>Kelly, Mr. James</td>\n",
       "      <td>male</td>\n",
       "      <td>34.5</td>\n",
       "      <td>0</td>\n",
       "      <td>0</td>\n",
       "      <td>330911</td>\n",
       "      <td>7.8292</td>\n",
       "      <td>NaN</td>\n",
       "      <td>Q</td>\n",
       "    </tr>\n",
       "    <tr>\n",
       "      <th>1</th>\n",
       "      <td>893</td>\n",
       "      <td>3</td>\n",
       "      <td>Wilkes, Mrs. James (Ellen Needs)</td>\n",
       "      <td>female</td>\n",
       "      <td>47.0</td>\n",
       "      <td>1</td>\n",
       "      <td>0</td>\n",
       "      <td>363272</td>\n",
       "      <td>7.0000</td>\n",
       "      <td>NaN</td>\n",
       "      <td>S</td>\n",
       "    </tr>\n",
       "    <tr>\n",
       "      <th>2</th>\n",
       "      <td>894</td>\n",
       "      <td>2</td>\n",
       "      <td>Myles, Mr. Thomas Francis</td>\n",
       "      <td>male</td>\n",
       "      <td>62.0</td>\n",
       "      <td>0</td>\n",
       "      <td>0</td>\n",
       "      <td>240276</td>\n",
       "      <td>9.6875</td>\n",
       "      <td>NaN</td>\n",
       "      <td>Q</td>\n",
       "    </tr>\n",
       "    <tr>\n",
       "      <th>3</th>\n",
       "      <td>895</td>\n",
       "      <td>3</td>\n",
       "      <td>Wirz, Mr. Albert</td>\n",
       "      <td>male</td>\n",
       "      <td>27.0</td>\n",
       "      <td>0</td>\n",
       "      <td>0</td>\n",
       "      <td>315154</td>\n",
       "      <td>8.6625</td>\n",
       "      <td>NaN</td>\n",
       "      <td>S</td>\n",
       "    </tr>\n",
       "    <tr>\n",
       "      <th>4</th>\n",
       "      <td>896</td>\n",
       "      <td>3</td>\n",
       "      <td>Hirvonen, Mrs. Alexander (Helga E Lindqvist)</td>\n",
       "      <td>female</td>\n",
       "      <td>22.0</td>\n",
       "      <td>1</td>\n",
       "      <td>1</td>\n",
       "      <td>3101298</td>\n",
       "      <td>12.2875</td>\n",
       "      <td>NaN</td>\n",
       "      <td>S</td>\n",
       "    </tr>\n",
       "  </tbody>\n",
       "</table>\n",
       "</div>"
      ],
      "text/plain": [
       "   PassengerId  Pclass                                          Name     Sex  \\\n",
       "0          892       3                              Kelly, Mr. James    male   \n",
       "1          893       3              Wilkes, Mrs. James (Ellen Needs)  female   \n",
       "2          894       2                     Myles, Mr. Thomas Francis    male   \n",
       "3          895       3                              Wirz, Mr. Albert    male   \n",
       "4          896       3  Hirvonen, Mrs. Alexander (Helga E Lindqvist)  female   \n",
       "\n",
       "    Age  SibSp  Parch   Ticket     Fare Cabin Embarked  \n",
       "0  34.5      0      0   330911   7.8292   NaN        Q  \n",
       "1  47.0      1      0   363272   7.0000   NaN        S  \n",
       "2  62.0      0      0   240276   9.6875   NaN        Q  \n",
       "3  27.0      0      0   315154   8.6625   NaN        S  \n",
       "4  22.0      1      1  3101298  12.2875   NaN        S  "
      ]
     },
     "execution_count": 60,
     "metadata": {},
     "output_type": "execute_result"
    }
   ],
   "source": [
    "test  = pd.read_csv(\"../input/titanic/test.csv\")\n",
    "test.head()"
   ]
  },
  {
   "cell_type": "code",
   "execution_count": 61,
   "id": "complimentary-sustainability",
   "metadata": {
    "execution": {
     "iopub.execute_input": "2021-06-15T17:06:26.850968Z",
     "iopub.status.busy": "2021-06-15T17:06:26.850374Z",
     "iopub.status.idle": "2021-06-15T17:06:26.955338Z",
     "shell.execute_reply": "2021-06-15T17:06:26.954798Z",
     "shell.execute_reply.started": "2021-06-15T16:49:40.988063Z"
    },
    "papermill": {
     "duration": 0.203485,
     "end_time": "2021-06-15T17:06:26.955488",
     "exception": false,
     "start_time": "2021-06-15T17:06:26.752003",
     "status": "completed"
    },
    "tags": []
   },
   "outputs": [
    {
     "ename": "NameError",
     "evalue": "name 'test_X' is not defined",
     "output_type": "error",
     "traceback": [
      "\u001b[0;31m---------------------------------------------------------------------------\u001b[0m",
      "\u001b[0;31mNameError\u001b[0m                                 Traceback (most recent call last)",
      "\u001b[0;32m<ipython-input-61-eb450f2fefb1>\u001b[0m in \u001b[0;36m<module>\u001b[0;34m\u001b[0m\n\u001b[0;32m----> 1\u001b[0;31m \u001b[0mtest_X\u001b[0m\u001b[0;34m.\u001b[0m\u001b[0minfo\u001b[0m\u001b[0;34m(\u001b[0m\u001b[0;34m)\u001b[0m\u001b[0;34m\u001b[0m\u001b[0;34m\u001b[0m\u001b[0m\n\u001b[0m",
      "\u001b[0;31mNameError\u001b[0m: name 'test_X' is not defined"
     ]
    }
   ],
   "source": [
    "test_X.info()"
   ]
  },
  {
   "cell_type": "code",
   "execution_count": 62,
   "id": "undefined-money",
   "metadata": {
    "execution": {
     "iopub.execute_input": "2021-06-15T17:06:27.149142Z",
     "iopub.status.busy": "2021-06-15T17:06:27.148192Z",
     "iopub.status.idle": "2021-06-15T17:06:27.151229Z",
     "shell.execute_reply": "2021-06-15T17:06:27.150744Z",
     "shell.execute_reply.started": "2021-06-15T16:44:44.296074Z"
    },
    "papermill": {
     "duration": 0.103679,
     "end_time": "2021-06-15T17:06:27.151357",
     "exception": false,
     "start_time": "2021-06-15T17:06:27.047678",
     "status": "completed"
    },
    "tags": []
   },
   "outputs": [],
   "source": [
    "test[\"Sex\"] = test[\"Sex\"].map(d)\n",
    "predictor_cols = [\"Pclass\",\"Sex\",\"Age\",\"SibSp\",\"Parch\",\"Fare\"]\n",
    "test_X = test[predictor_cols]"
   ]
  },
  {
   "cell_type": "code",
   "execution_count": 63,
   "id": "early-generic",
   "metadata": {
    "execution": {
     "iopub.execute_input": "2021-06-15T17:06:27.344992Z",
     "iopub.status.busy": "2021-06-15T17:06:27.344298Z",
     "iopub.status.idle": "2021-06-15T17:06:27.347646Z",
     "shell.execute_reply": "2021-06-15T17:06:27.347177Z",
     "shell.execute_reply.started": "2021-06-15T16:49:24.484519Z"
    },
    "papermill": {
     "duration": 0.104115,
     "end_time": "2021-06-15T17:06:27.347767",
     "exception": false,
     "start_time": "2021-06-15T17:06:27.243652",
     "status": "completed"
    },
    "tags": []
   },
   "outputs": [
    {
     "name": "stderr",
     "output_type": "stream",
     "text": [
      "/opt/conda/lib/python3.7/site-packages/ipykernel_launcher.py:2: SettingWithCopyWarning: \n",
      "A value is trying to be set on a copy of a slice from a DataFrame.\n",
      "Try using .loc[row_indexer,col_indexer] = value instead\n",
      "\n",
      "See the caveats in the documentation: https://pandas.pydata.org/pandas-docs/stable/user_guide/indexing.html#returning-a-view-versus-a-copy\n",
      "  \n",
      "/opt/conda/lib/python3.7/site-packages/ipykernel_launcher.py:3: SettingWithCopyWarning: \n",
      "A value is trying to be set on a copy of a slice from a DataFrame.\n",
      "Try using .loc[row_indexer,col_indexer] = value instead\n",
      "\n",
      "See the caveats in the documentation: https://pandas.pydata.org/pandas-docs/stable/user_guide/indexing.html#returning-a-view-versus-a-copy\n",
      "  This is separate from the ipykernel package so we can avoid doing imports until\n"
     ]
    }
   ],
   "source": [
    "#Handling the missing values in test dataset\n",
    "test_X[\"Age\"] = test_X[\"Age\"].fillna(test_X[\"Age\"].mean())\n",
    "test_X[\"Fare\"] = test_X[\"Fare\"].fillna(axis = 0,method=\"bfill\")"
   ]
  },
  {
   "cell_type": "code",
   "execution_count": 64,
   "id": "requested-operations",
   "metadata": {
    "execution": {
     "iopub.execute_input": "2021-06-15T17:06:27.539376Z",
     "iopub.status.busy": "2021-06-15T17:06:27.538756Z",
     "iopub.status.idle": "2021-06-15T17:06:27.564333Z",
     "shell.execute_reply": "2021-06-15T17:06:27.563717Z",
     "shell.execute_reply.started": "2021-06-15T16:49:53.296396Z"
    },
    "papermill": {
     "duration": 0.122182,
     "end_time": "2021-06-15T17:06:27.564492",
     "exception": false,
     "start_time": "2021-06-15T17:06:27.442310",
     "status": "completed"
    },
    "tags": []
   },
   "outputs": [
    {
     "name": "stdout",
     "output_type": "stream",
     "text": [
      "[0 0 0 0 1 1 0 1 0 1 0 1 1 1 1 1 0 0 0 0 1 0 1 1 1 0 1 0 1 1 1 1 1 1 1 0 0\n",
      " 0 0 1 0 1 0 0 1 0 1 0 1 1 1 1 1 1 1 1 0 0 1 1 0 0 0 0 1 1 0 1 1 1 0 0 0 1\n",
      " 1 1 0 1 0 0 1 1 1 0 0 1 0 0 0 1 1 0 1 0 1 0 1 0 0 0 1 1 0 0 0 1 0 0 0 1 0\n",
      " 0 1 0 1 1 0 1 1 1 1 0 1 0 0 1 0 1 0 0 0 1 1 0 0 0 0 1 0 1 1 1 1 1 1 1 1 0\n",
      " 1 1 1 0 0 0 1 0 1 0 1 1 0 1 1 0 0 1 1 1 1 0 0 0 1 0 1 1 1 1 1 1 0 1 1 0 1\n",
      " 0 1 0 1 0 1 1 1 0 1 0 1 0 0 0 1 1 1 1 0 1 0 0 1 0 1 0 1 1 0 1 0 1 1 0 1 0\n",
      " 0 0 1 1 0 0 0 0 1 1 0 0 1 0 1 0 1 1 1 1 1 0 1 1 1 1 1 1 1 0 1 0 0 0 0 0 1\n",
      " 0 1 0 1 1 0 0 0 0 0 0 1 0 1 1 0 1 0 1 1 0 0 1 0 1 1 0 0 1 0 0 1 0 0 1 0 0\n",
      " 1 1 1 0 0 1 1 0 0 1 1 1 1 0 0 0 0 0 1 0 1 1 0 1 0 0 1 1 1 0 1 1 1 1 1 1 0\n",
      " 1 0 1 0 0 1 0 1 0 1 1 1 0 1 0 1 1 1 0 1 1 1 1 1 0 0 1 1 1 1 0 1 1 1 1 1 1\n",
      " 1 1 0 0 1 1 0 1 1 1 0 0 1 1 0 1 0 0 0 1 1 1 1 0 1 1 0 1 0 0 1 1 1 1 1 1 0\n",
      " 1 0 1 0 1 0 0 1 0 0 1]\n"
     ]
    }
   ],
   "source": [
    "predict_survived = classifier_knn.predict(test_X)\n",
    "print(predict_survived)"
   ]
  },
  {
   "cell_type": "code",
   "execution_count": 65,
   "id": "fifth-belief",
   "metadata": {
    "execution": {
     "iopub.execute_input": "2021-06-15T17:06:27.756812Z",
     "iopub.status.busy": "2021-06-15T17:06:27.756128Z",
     "iopub.status.idle": "2021-06-15T17:06:27.762142Z",
     "shell.execute_reply": "2021-06-15T17:06:27.762656Z",
     "shell.execute_reply.started": "2021-06-15T16:51:35.872037Z"
    },
    "papermill": {
     "duration": 0.105039,
     "end_time": "2021-06-15T17:06:27.762866",
     "exception": false,
     "start_time": "2021-06-15T17:06:27.657827",
     "status": "completed"
    },
    "tags": []
   },
   "outputs": [],
   "source": [
    "my_submission = pd.DataFrame({'PassengerId': test.PassengerId, 'Survived': predict_survived})\n",
    "# you could use any filename. We choose submission here\n",
    "my_submission.to_csv('submission.csv', index=False)"
   ]
  }
 ],
 "metadata": {
  "kernelspec": {
   "display_name": "Python 3",
   "language": "python",
   "name": "python3"
  },
  "language_info": {
   "codemirror_mode": {
    "name": "ipython",
    "version": 3
   },
   "file_extension": ".py",
   "mimetype": "text/x-python",
   "name": "python",
   "nbconvert_exporter": "python",
   "pygments_lexer": "ipython3",
   "version": "3.7.10"
  },
  "papermill": {
   "default_parameters": {},
   "duration": 28.731097,
   "end_time": "2021-06-15T17:06:28.664669",
   "environment_variables": {},
   "exception": null,
   "input_path": "__notebook__.ipynb",
   "output_path": "__notebook__.ipynb",
   "parameters": {},
   "start_time": "2021-06-15T17:05:59.933572",
   "version": "2.3.3"
  }
 },
 "nbformat": 4,
 "nbformat_minor": 5
}
